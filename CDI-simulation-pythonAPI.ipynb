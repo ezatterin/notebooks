{
 "cells": [
  {
   "cell_type": "markdown",
   "metadata": {},
   "source": [
    "*This exercise shows ho to use the python API, rather than using the high-level PtychoRunnerScan classes, or the pynx-XXpty.py scripts*"
   ]
  },
  {
   "cell_type": "code",
   "execution_count": null,
   "metadata": {
    "collapsed": false
   },
   "outputs": [],
   "source": [
    "%matplotlib notebook\n",
    "from pynx.ptycho import simulation, clptycho, shape\n",
    "from pynx.utils.plot_utils import plot_llk_history\n",
    "import numpy as np\n",
    "from pylab import rcParams, figure\n",
    "rcParams['figure.figsize'] = (12, 8)  # Figure size for inline display"
   ]
  },
  {
   "cell_type": "markdown",
   "metadata": {},
   "source": [
    "**Simulation data**"
   ]
  },
  {
   "cell_type": "code",
   "execution_count": null,
   "metadata": {
    "collapsed": false
   },
   "outputs": [],
   "source": [
    "# Simulation of the ptychography data:\n",
    "n=256 # Size of the frames\n",
    "obj_info = {'type':'phase_ampl', 'phase_stretch':np.pi/2, 'alpha_win':.2}\n",
    "probe_info = {'type':'focus', 'aperture': (60e-6, 200e-6), 'focal_length': .08, 'defocus': 100e-6,'shape': (n,n)}\n",
    "\n",
    "#50 scan positions correspond to 4 turns, 78 to 5 turns, 113 to 6 turns\n",
    "scan_info = {'type': 'spiral', 'scan_step_pix': 30, 'n_scans': 100}\n",
    "data_info = {'num_phot_max': 1e9, 'bg': 0, 'wavelength': 1.5e-10, 'detector_dist': 1, 'detector_pixel_size': 55e-6, 'noise': 'poisson'}\n",
    "\n",
    "# Initialisation of the simulation with specified parameters, specific <object>, <probe> or <scan>positions can be passed as:\n",
    "# s = ptycho.Simulation(obj=<object>, probe=<probe>, scan = <scan>)\n",
    "# omitting obj_info, probe_info or scan_info (or passing it as empty dictionary \"{}\")\n",
    "s = simulation.Simulation(obj_info=obj_info, probe_info=probe_info, scan_info=scan_info, data_info=data_info)\n",
    "\n",
    "# Data simulation: probe.show(), obj.show(), scan.show() and s.show_illumination_sum() will visualise the integrated total coverage of the beam\n",
    "s.make_data()\n",
    "\n",
    "pos = s.scan.values\n",
    "ampl = s.amplitude.values # square root of the measured diffraction pattern intensity"
   ]
  },
  {
   "cell_type": "markdown",
   "metadata": {},
   "source": [
    "**Prepare initial random object, and approximate probe to be optimized**"
   ]
  },
  {
   "cell_type": "code",
   "execution_count": null,
   "metadata": {
    "collapsed": false
   },
   "outputs": [],
   "source": [
    "nx,ny = shape.objShape(pos, ampl.shape[1:])\n",
    "\n",
    "# Initial object\n",
    "#obj_init_info = {'type':'flat','shape':(nx,ny)}\n",
    "obj_init_info = {'type': 'random', 'range': (0,1,0,0.5), 'shape': (nx, ny)}\n",
    "# Initial probe\n",
    "probe_init_info = {'type':'focus', 'aperture': (50e-6, 180e-6), 'focal_length': .08, 'defocus': 50e-6,'shape': (n,n)}\n",
    "data_info = {'wavelength': 1.5e-9, 'detector_dist': 1, 'detector_pixel_size': 55e-6}\n",
    "init = simulation.Simulation(obj_info=obj_init_info, probe_info=probe_init_info, data_info=data_info)\n",
    "\n",
    "init.make_obj()\n",
    "init.make_probe()"
   ]
  },
  {
   "cell_type": "markdown",
   "metadata": {},
   "source": [
    "**Ptycho object**"
   ]
  },
  {
   "cell_type": "code",
   "execution_count": null,
   "metadata": {
    "collapsed": false
   },
   "outputs": [],
   "source": [
    "pixel_size_object= 1e-8\n",
    "p = clptycho.Ptycho2D(iobs= ampl**2, positions=pos, probe=s.probe.values.copy(), obj=init.obj.values.copy()\n",
    "                      , opencl_device=\"K80\", pixel_size_object=1e-8)"
   ]
  },
  {
   "cell_type": "markdown",
   "metadata": {},
   "source": [
    "**Run algorithm. FIrst optimize only object, then probe, with different algorithms**"
   ]
  },
  {
   "cell_type": "code",
   "execution_count": null,
   "metadata": {
    "collapsed": false
   },
   "outputs": [],
   "source": [
    "p.run_difference_map(40, update_object=True, update_probe=False, verbose=20, doplot=True)"
   ]
  },
  {
   "cell_type": "code",
   "execution_count": null,
   "metadata": {
    "collapsed": false
   },
   "outputs": [],
   "source": [
    "p.run_difference_map(60, update_object=True, update_probe=True, verbose=20, doplot=True)"
   ]
  },
  {
   "cell_type": "code",
   "execution_count": null,
   "metadata": {
    "collapsed": false
   },
   "outputs": [],
   "source": [
    "p.run_alternating_projection(100, update_object=True, update_probe=True, verbose=20, doplot=True)"
   ]
  },
  {
   "cell_type": "code",
   "execution_count": null,
   "metadata": {
    "collapsed": false
   },
   "outputs": [],
   "source": [
    "p.run_ml_poisson(50, update_object=True, update_probe=True, verbose=20, doplot=True)"
   ]
  },
  {
   "cell_type": "code",
   "execution_count": null,
   "metadata": {
    "collapsed": false
   },
   "outputs": [],
   "source": [
    "%matplotlib inline\n",
    "figure(figsize=(8,6))\n",
    "plot_llk_history(p.history)"
   ]
  },
  {
   "cell_type": "code",
   "execution_count": null,
   "metadata": {
    "collapsed": true
   },
   "outputs": [],
   "source": []
  }
 ],
 "metadata": {
  "kernelspec": {
   "display_name": "Python 3",
   "language": "python",
   "name": "python3"
  },
  "language_info": {
   "codemirror_mode": {
    "name": "ipython",
    "version": 3
   },
   "file_extension": ".py",
   "mimetype": "text/x-python",
   "name": "python",
   "nbconvert_exporter": "python",
   "pygments_lexer": "ipython3",
   "version": "3.4.2"
  }
 },
 "nbformat": 4,
 "nbformat_minor": 2
}
