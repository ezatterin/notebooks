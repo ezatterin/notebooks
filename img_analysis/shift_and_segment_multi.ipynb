{
 "cells": [
  {
   "cell_type": "markdown",
   "metadata": {},
   "source": [
    "Purpose of the notebook:\n",
    "* load kmaps with different ROIs\n",
    "* denoise them and shift correct them\n",
    "* segment the domains\n",
    "\n",
    "All of these in a dictionary fashion - at the end of the day, all of the kmaps are into one object."
   ]
  },
  {
   "cell_type": "code",
   "execution_count": 23,
   "metadata": {
    "scrolled": true
   },
   "outputs": [],
   "source": [
    "import numpy as np\n",
    "import lib.calc as c\n",
    "import scipy.ndimage as nd\n",
    "\n",
    "from skimage import filters, exposure, restoration, morphology, feature, measure\n",
    "from matplotlib import pyplot as plt\n",
    "from matplotlib import patches\n",
    "from ipywidgets import interact, fixed\n",
    "from silx.io import specfile as spec\n",
    "from lib.kmap import *\n",
    "from imp import reload\n",
    "\n",
    "%matplotlib inline"
   ]
  },
  {
   "cell_type": "markdown",
   "metadata": {},
   "source": [
    "Initialise filenames, scan numbers, etc."
   ]
  },
  {
   "cell_type": "code",
   "execution_count": 2,
   "metadata": {},
   "outputs": [
    {
     "name": "stdout",
     "output_type": "stream",
     "text": [
      "[9, 14, 20, 26, 32, 38, 44, 50, 56, 62, 68, 74, 79, 84, 89]\n"
     ]
    }
   ],
   "source": [
    "# initialise varables\n",
    "sf = '/users/zatterin/Documents/beam/hc3313/e17089_fast_00022.spec'\n",
    "rois_103 = ['roi1', 'roi3', 'roi2', 'roi4', 'roi5']\n",
    "scan_list = [10,15,21,27,33,39,45,51,57,63,69,75,80,85,90]\n",
    "voltages = [5,10,20,30,40,50,60,70,-10,-20,-30,-40,-50,-60,-70,100,150]\n",
    "\n",
    "\n",
    "# select scans\n",
    "for i,scan in enumerate(scan_list):\n",
    "    scan_list[i] = scan - 1\n",
    "# scan_list.append(94)\n",
    "# scan_list.append(96)\n",
    "voltagesd = dict()\n",
    "for i in range(len(scan_list)):\n",
    "    voltagesd[scan_list[i]] = voltages[i]\n",
    "\n",
    "print(scan_list) "
   ]
  },
  {
   "cell_type": "markdown",
   "metadata": {},
   "source": [
    "Load the kmaps in a large dictionary, like `kmaps_all[<roi>][<scan_no>]`. A hack is needed because I originally wrote `read_kmap` to work differently."
   ]
  },
  {
   "cell_type": "code",
   "execution_count": 3,
   "metadata": {},
   "outputs": [],
   "source": [
    "# hack to get the desired dictionary (instead of scan --> rois)\n",
    "kmaps_all = dict()\n",
    "for roi in rois_103:\n",
    "    kmaps_all[roi] = dict()\n",
    "    for scan_no in scan_list:\n",
    "        kmaps_all[roi][scan_no] = read_kmap(sf, scan_no, [roi], motors=False)[roi]"
   ]
  },
  {
   "cell_type": "markdown",
   "metadata": {},
   "source": [
    "Now denoise the kmaps and create a `kmaps_denoised` dict that behaves like the previous one."
   ]
  },
  {
   "cell_type": "code",
   "execution_count": 4,
   "metadata": {},
   "outputs": [],
   "source": [
    "# perhaps there is a faster way to do this with kmaps_all.items()?\n",
    "kmaps_denoised = dict()\n",
    "for roi in kmaps_all:\n",
    "    kmaps_denoised[roi] = dict()\n",
    "    for scan in kmaps_all[roi]:\n",
    "        kmaps_denoised[roi][scan] = denoise_kmap(kmaps_all[roi][scan])"
   ]
  },
  {
   "cell_type": "markdown",
   "metadata": {},
   "source": [
    "Finally shift them and select the smallest window."
   ]
  },
  {
   "cell_type": "code",
   "execution_count": 5,
   "metadata": {},
   "outputs": [],
   "source": [
    "kmaps_shifted, shifts, winidx = shift_kmapsdict(kmaps_denoised, scan_list)"
   ]
  },
  {
   "cell_type": "code",
   "execution_count": 36,
   "metadata": {
    "scrolled": false
   },
   "outputs": [
    {
     "data": {
      "application/vnd.jupyter.widget-view+json": {
       "model_id": "4f87dda1dfeb4c40918fb8f43488594e",
       "version_major": 2,
       "version_minor": 0
      },
      "text/html": [
       "<p>Failed to display Jupyter Widget of type <code>interactive</code>.</p>\n",
       "<p>\n",
       "  If you're reading this message in Jupyter Notebook or JupyterLab, it may mean\n",
       "  that the widgets JavaScript is still loading. If this message persists, it\n",
       "  likely means that the widgets JavaScript library is either not installed or\n",
       "  not enabled. See the <a href=\"https://ipywidgets.readthedocs.io/en/stable/user_install.html\">Jupyter\n",
       "  Widgets Documentation</a> for setup instructions.\n",
       "</p>\n",
       "<p>\n",
       "  If you're reading this message in another notebook frontend (for example, a static\n",
       "  rendering on GitHub or <a href=\"https://nbviewer.jupyter.org/\">NBViewer</a>),\n",
       "  it may mean that your frontend doesn't currently support widgets.\n",
       "</p>\n"
      ],
      "text/plain": [
       "interactive(children=(Dropdown(description='i', index=13, options=(9, 14, 20, 26, 32, 38, 44, 50, 56, 62, 68, 74, 79, 84, 89), value=84), Output()), _dom_classes=('widget-interact',))"
      ]
     },
     "metadata": {},
     "output_type": "display_data"
    }
   ],
   "source": [
    "# display ROI being used if any\n",
    "r1, r2 = 23, 110\n",
    "r3, r4 = 190, 280\n",
    "\n",
    "# Plot largest window\n",
    "@interact(i=scan_list)\n",
    "def plot(i=84):\n",
    "    fig, axes = plt.subplots(1,4,figsize=(14,10))\n",
    "    for index, ax in enumerate(axes):\n",
    "        roi = 'roi'+str(index+1)\n",
    "        img = kmaps_shifted[roi][i][winidx] - kmaps_shifted[roi][scan_list[0]][winidx] \n",
    "        ax.imshow(img)\n",
    "        ax.set_title('roi{0}...{1} V'.format(index+1,voltagesd[i]))\n",
    "        ax.axis('off')\n",
    "        ax.add_patch(patches.Rectangle((0,r1),\n",
    "                    (img.shape[1]),\n",
    "                    (r2-r1), fill=False, edgecolor='red',linewidth=2));\n",
    "        ax.add_patch(patches.Rectangle((0,r3),\n",
    "                    (img.shape[1]),\n",
    "                    (r4-r3), fill=False, edgecolor='red',linewidth=2));"
   ]
  },
  {
   "cell_type": "markdown",
   "metadata": {},
   "source": [
    "Have a look at the selected roi in needed:"
   ]
  },
  {
   "cell_type": "code",
   "execution_count": 38,
   "metadata": {},
   "outputs": [
    {
     "data": {
      "application/vnd.jupyter.widget-view+json": {
       "model_id": "9ed7e8d192f84322bdcd9681b09aa10a",
       "version_major": 2,
       "version_minor": 0
      },
      "text/html": [
       "<p>Failed to display Jupyter Widget of type <code>interactive</code>.</p>\n",
       "<p>\n",
       "  If you're reading this message in Jupyter Notebook or JupyterLab, it may mean\n",
       "  that the widgets JavaScript is still loading. If this message persists, it\n",
       "  likely means that the widgets JavaScript library is either not installed or\n",
       "  not enabled. See the <a href=\"https://ipywidgets.readthedocs.io/en/stable/user_install.html\">Jupyter\n",
       "  Widgets Documentation</a> for setup instructions.\n",
       "</p>\n",
       "<p>\n",
       "  If you're reading this message in another notebook frontend (for example, a static\n",
       "  rendering on GitHub or <a href=\"https://nbviewer.jupyter.org/\">NBViewer</a>),\n",
       "  it may mean that your frontend doesn't currently support widgets.\n",
       "</p>\n"
      ],
      "text/plain": [
       "interactive(children=(Dropdown(description='i', options=(9, 14, 20, 26, 32, 38, 44, 50, 56, 62, 68, 74, 79, 84, 89), value=9), Output()), _dom_classes=('widget-interact',))"
      ]
     },
     "metadata": {},
     "output_type": "display_data"
    }
   ],
   "source": [
    "# roi\n",
    "@interact(i=scan_list)\n",
    "def plot(i):\n",
    "    fig, axes = plt.subplots(1,4,figsize=(14,10))\n",
    "    for index, ax in enumerate(axes):\n",
    "        roi = 'roi'+str(index+1)\n",
    "        img = kmaps_shifted[roi][i][winidx][r1:r2,:]\n",
    "        ax.imshow(img)\n",
    "        ax.set_title('roi{0}...{1} V'.format(index+1,voltagesd[i]))\n",
    "        ax.axis('off')"
   ]
  },
  {
   "cell_type": "code",
   "execution_count": 86,
   "metadata": {},
   "outputs": [
    {
     "data": {
      "image/png": "[encoded data removed]",
      "text/plain": [
       "<matplotlib.figure.Figure at 0x7f5dfa42d6a0>"
      ]
     },
     "metadata": {},
     "output_type": "display_data"
    }
   ],
   "source": [
    "fig, ax = plt.subplots(8,1,figsize=(5,30))\n",
    "for index, a in enumerate(ax):\n",
    "    "
   ]
  },
  {
   "cell_type": "markdown",
   "metadata": {},
   "source": [
    "Now select regions:"
   ]
  },
  {
   "cell_type": "code",
   "execution_count": 39,
   "metadata": {},
   "outputs": [],
   "source": [
    "def threshold_kmap(kmap,t=0.15,disk_size=1,hval=20):\n",
    "    # init\n",
    "    se = morphology.selem.disk(disk_size)\n",
    "    \n",
    "    # compute rmax\n",
    "    h = kmap.max() - kmap.max()/hval\n",
    "    hmax = morphology.reconstruction(kmap-h, kmap, method='dilation', \n",
    "                                     selem=morphology.selem.disk(disk_size))\n",
    "    rmax = kmap - hmax \n",
    "    \n",
    "    # close gaps in rmax\n",
    "    rmax_closed = morphology.closing(rmax, selem=morphology.selem.disk(disk_size))\n",
    "\n",
    "    # totally arbitrary threshold!\n",
    "    ots = filters.threshold_li(rmax_closed)\n",
    "#     rmax_ts = rmax_closed > t*rmax_closed.max()\n",
    "    rmax_ts = rmax_closed > ots\n",
    "    rmax_tsm = morphology.binary_dilation(rmax_ts, selem=se) ^ morphology.binary_erosion(rmax_ts, selem=se)\n",
    "\n",
    "    # mask it\n",
    "    mask = np.ma.masked_where(rmax_tsm==0, rmax_tsm)\n",
    "    \n",
    "    return rmax_ts, mask"
   ]
  },
  {
   "cell_type": "code",
   "execution_count": 40,
   "metadata": {},
   "outputs": [],
   "source": [
    "# select threshold level (see function above)\n",
    "thresh = 0.1\n",
    "\n",
    "# calc thresholds fro all images with voltage\n",
    "kmaps_mask = dict()\n",
    "for roi in kmaps_shifted:\n",
    "    kmaps_mask[roi] = dict()\n",
    "    for scan in kmaps_shifted[roi]:\n",
    "#         kmaps_mask[roi][scan] = threshold_kmap(kmaps_shifted[roi][scan],t=thresh)\n",
    "        kmaps_mask[roi][scan] = threshold_kmap(kmaps_shifted[roi][scan][r1:r2,:],t=thresh)"
   ]
  },
  {
   "cell_type": "code",
   "execution_count": 41,
   "metadata": {},
   "outputs": [],
   "source": [
    "# select 5V and 70V thresholds\n",
    "scan_5  = [key for key,value in voltagesd.items() if value == 5][0]\n",
    "scan_70 = [key for key,value in voltagesd.items() if value == 70][0] "
   ]
  },
  {
   "cell_type": "code",
   "execution_count": 84,
   "metadata": {
    "scrolled": false
   },
   "outputs": [
    {
     "data": {
      "application/vnd.jupyter.widget-view+json": {
       "model_id": "98a59351d07448579299bcabf294785d",
       "version_major": 2,
       "version_minor": 0
      },
      "text/html": [
       "<p>Failed to display Jupyter Widget of type <code>interactive</code>.</p>\n",
       "<p>\n",
       "  If you're reading this message in Jupyter Notebook or JupyterLab, it may mean\n",
       "  that the widgets JavaScript is still loading. If this message persists, it\n",
       "  likely means that the widgets JavaScript library is either not installed or\n",
       "  not enabled. See the <a href=\"https://ipywidgets.readthedocs.io/en/stable/user_install.html\">Jupyter\n",
       "  Widgets Documentation</a> for setup instructions.\n",
       "</p>\n",
       "<p>\n",
       "  If you're reading this message in another notebook frontend (for example, a static\n",
       "  rendering on GitHub or <a href=\"https://nbviewer.jupyter.org/\">NBViewer</a>),\n",
       "  it may mean that your frontend doesn't currently support widgets.\n",
       "</p>\n"
      ],
      "text/plain": [
       "interactive(children=(Dropdown(description='i', options=(9, 14, 20, 26, 32, 38, 44, 50, 56, 62, 68, 74, 79, 84, 89), value=9), Dropdown(description='mask', options=('0V', '70V'), value='0V'), Output()), _dom_classes=('widget-interact',))"
      ]
     },
     "metadata": {},
     "output_type": "display_data"
    }
   ],
   "source": [
    "# Plot \n",
    "@interact(i=scan_list, mask=['0V','70V'])\n",
    "def plot(i,mask='0V'):\n",
    "    fig, axes = plt.subplots(2,4,figsize=(15,10))\n",
    "    \n",
    "    for index, ax in enumerate(axes[0]):\n",
    "        roi = 'roi'+str(index+1)\n",
    "        ax.imshow(kmaps_shifted[roi][i][winidx][r1:r2,:])\n",
    "        ax.set_title('roi{0}...{1} V'.format(index+1,voltagesd[i]))\n",
    "        ax.axis('off')\n",
    "\n",
    "    for index, ax in enumerate(axes[1]):\n",
    "        roi = 'roi'+str(index+1)\n",
    "        ax.imshow(kmaps_mask[roi][i][0] ^ kmaps_mask[roi][scan_70][0])\n",
    "#         ax.imshow(kmaps_shifted[roi][i][winidx][r1:r2,:])\n",
    "#         if mask=='0V':\n",
    "#             ax.imshow(kmaps_mask[roi][scan_5][1][winidx])\n",
    "#         elif mask=='70V':\n",
    "#             ax.imshow(kmaps_mask[roi][scan_70][1][winidx])            \n",
    "        ax.set_title('roi{0}...{1} V'.format(index+1,voltagesd[i]))\n",
    "        ax.axis('off')"
   ]
  },
  {
   "cell_type": "markdown",
   "metadata": {},
   "source": [
    "Finally make some calculations:"
   ]
  },
  {
   "cell_type": "code",
   "execution_count": 64,
   "metadata": {},
   "outputs": [
    {
     "data": {
      "text/plain": [
       "[50, 56, 62, 68, 74, 79, 84, 89]"
      ]
     },
     "execution_count": 64,
     "metadata": {},
     "output_type": "execute_result"
    }
   ],
   "source": [
    "scan_list[7:]"
   ]
  },
  {
   "cell_type": "code",
   "execution_count": 65,
   "metadata": {},
   "outputs": [],
   "source": [
    "upvoltage, downvoltage = dict(), dict()\n",
    "for roi in kmaps_mask:\n",
    "    upvoltage[roi], downvoltage[roi] = [],[]\n",
    "    for scan in scan_list[:8]: # up to 70V\n",
    "        upvoltage[roi].append(np.count_nonzero(kmaps_mask[roi][scan][0] ^ kmaps_mask[roi][scan_5][0]))\n",
    "    for scan in scan_list[7:]: # from 70 to -70V\n",
    "        downvoltage[roi].append(np.count_nonzero(kmaps_mask[roi][scan][0] ^ kmaps_mask[roi][scan_70][0]))"
   ]
  },
  {
   "cell_type": "code",
   "execution_count": 85,
   "metadata": {
    "scrolled": true
   },
   "outputs": [
    {
     "data": {
      "image/png": "[encoded data removed]",
      "text/plain": [
       "<matplotlib.figure.Figure at 0x7f5df8556cc0>"
      ]
     },
     "metadata": {},
     "output_type": "display_data"
    }
   ],
   "source": [
    "ROI = 'roi4'\n",
    "\n",
    "fig, ax1 = plt.subplots()\n",
    "\n",
    "ax1.plot(voltages[:8],[x/kmaps_mask[roi][scan_5][0].size for x in upvoltage[ROI]],marker='o', c='C0', label=ROI+' +V')\n",
    "ax1.set_xlabel('Applied voltage',color='C0')\n",
    "ax1.set_ylabel('Fraction of switched pixels')\n",
    "ax1.tick_params('x', colors='C0')\n",
    "ax1.legend(loc=0)\n",
    "\n",
    "ax2 = ax1.twiny()\n",
    "ax2.plot(range(7,-1,-1),[x/kmaps_mask[roi][scan_70][0].size for x in downvoltage[ROI]],marker='x', c='C1', label=ROI+' -V')\n",
    "ax2.set_xticklabels([-70,-70,-60,-50,-40,-30,-20,-10,70]) # wtf??\n",
    "ax2.set_xlabel('Applied voltage',color='C1')\n",
    "ax2.tick_params('x', colors='C1')\n",
    "ax2.legend(loc=5)\n",
    "\n",
    "plt.show()"
   ]
  }
 ],
 "metadata": {
  "kernelspec": {
   "display_name": "Python 3",
   "language": "python",
   "name": "python3"
  },
  "language_info": {
   "codemirror_mode": {
    "name": "ipython",
    "version": 3
   },
   "file_extension": ".py",
   "mimetype": "text/x-python",
   "name": "python",
   "nbconvert_exporter": "python",
   "pygments_lexer": "ipython3",
   "version": "3.5.3"
  }
 },
 "nbformat": 4,
 "nbformat_minor": 2
}
