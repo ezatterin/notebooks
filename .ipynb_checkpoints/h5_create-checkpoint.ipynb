{
 "cells": [
  {
   "cell_type": "markdown",
   "metadata": {},
   "source": [
    "Creates .h5 file from spec file and specified scan numbers."
   ]
  },
  {
   "cell_type": "code",
   "execution_count": 27,
   "metadata": {
    "collapsed": false,
    "deletable": true,
    "editable": true
   },
   "outputs": [],
   "source": [
    "import xrayutilities as xu\n",
    "import os\n",
    "import hdf5_writer as h5w\n",
    "import xrayutilities_id01_functions as id01"
   ]
  },
  {
   "cell_type": "code",
   "execution_count": 48,
   "metadata": {
    "collapsed": false,
    "deletable": true,
    "editable": true
   },
   "outputs": [],
   "source": [
    "imgdir = '../../../../data/ESRF/IHR_20161114/detector/20161117/E16095/'\n",
    "specdir = '../../../../data/ESRF/IHR_20161114/spec/'"
   ]
  },
  {
   "cell_type": "code",
   "execution_count": 49,
   "metadata": {
    "collapsed": false,
    "deletable": true,
    "editable": true,
    "scrolled": true
   },
   "outputs": [
    {
     "name": "stdout",
     "output_type": "stream",
     "text": [
      "20161115_E16095.spec\r\n",
      "20161115_E16095_fast_00011.spec\r\n",
      "20161117_E16095.spec\r\n",
      "20161117_E16095_fast_00003.spec\r\n",
      "20161117_E16095_fast_00005.spec\r\n"
     ]
    }
   ],
   "source": [
    "ls {specdir} | grep E16095"
   ]
  },
  {
   "cell_type": "code",
   "execution_count": 50,
   "metadata": {
    "collapsed": true,
    "deletable": true,
    "editable": true
   },
   "outputs": [],
   "source": [
    "specfile = '20161117_E16095.spec'"
   ]
  },
  {
   "cell_type": "code",
   "execution_count": 51,
   "metadata": {
    "collapsed": false,
    "deletable": true,
    "editable": true
   },
   "outputs": [],
   "source": [
    "scan_nos = [1,2]\n",
    "h5_name = specfile[:-5]"
   ]
  },
  {
   "cell_type": "code",
   "execution_count": null,
   "metadata": {
    "collapsed": true,
    "deletable": true,
    "editable": true
   },
   "outputs": [],
   "source": [
    "h5w.create_hdf5(specdir+specfile,image_prefix='data_mpx4_',imagedir=imgdir,\n",
    "                scan_nos=scan_nos,output_fn=h5_name,sigfig=\"%05d\")"
   ]
  }
 ],
 "metadata": {
  "kernelspec": {
   "display_name": "Python 3",
   "language": "python",
   "name": "python3"
  },
  "language_info": {
   "codemirror_mode": {
    "name": "ipython",
    "version": 3
   },
   "file_extension": ".py",
   "mimetype": "text/x-python",
   "name": "python",
   "nbconvert_exporter": "python",
   "pygments_lexer": "ipython3",
   "version": "3.4.2"
  }
 },
 "nbformat": 4,
 "nbformat_minor": 0
}
