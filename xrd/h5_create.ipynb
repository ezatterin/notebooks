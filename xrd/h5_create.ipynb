{
 "cells": [
  {
   "cell_type": "markdown",
   "metadata": {},
   "source": [
    "Creates .h5 file from spec file and specified scan numbers."
   ]
  },
  {
   "cell_type": "code",
   "execution_count": 1,
   "metadata": {
    "collapsed": true
   },
   "outputs": [],
   "source": [
    "import xrayutilities as xu\n",
    "import os\n",
    "from id01sware.id01lib import hdf5_writer as h5w\n",
    "from id01sware.id01lib import xrayutilities_id01_functions as id01"
   ]
  },
  {
   "cell_type": "code",
   "execution_count": 2,
   "metadata": {
    "collapsed": true
   },
   "outputs": [],
   "source": [
    "imgdir = '/data/id01/inhouse/edo/IHR_20170831/detector/'\n",
    "specdir = '/data/id01/inhouse/edo/IHR_20170831/spec/'"
   ]
  },
  {
   "cell_type": "code",
   "execution_count": 3,
   "metadata": {
    "scrolled": true
   },
   "outputs": [
    {
     "name": "stdout",
     "output_type": "stream",
     "text": [
      "\u001b[0m\u001b[00me16095_furnace_fast_00086.spec\u001b[0m\r\n",
      "\u001b[00me16095_furnace_fast_00089.spec\u001b[0m\r\n",
      "\u001b[00me16095_furnace_fast_00105.spec\u001b[0m\r\n",
      "\u001b[00me16095_furnace_fast_00107.spec\u001b[0m\r\n",
      "\u001b[00me16095_furnace.spec\u001b[0m\r\n"
     ]
    }
   ],
   "source": [
    "ls {specdir} | grep -i e16095"
   ]
  },
  {
   "cell_type": "code",
   "execution_count": 4,
   "metadata": {
    "collapsed": true
   },
   "outputs": [],
   "source": [
    "specfile = 'e16095_furnace.spec'"
   ]
  },
  {
   "cell_type": "code",
   "execution_count": 5,
   "metadata": {
    "collapsed": true
   },
   "outputs": [],
   "source": [
    "scan_nos = [13,14,25,35,36,37,46,47,48,59,57,60,68,69,70,83,84,85]\n",
    "h5_name = 'e16095_furnace_rods_temp'"
   ]
  },
  {
   "cell_type": "code",
   "execution_count": 10,
   "metadata": {},
   "outputs": [
    {
     "name": "stdout",
     "output_type": "stream",
     "text": [
      "creating new file: /users/zatterin/Documents/notebooks/xrd/e16095_furnace_rods_temp.h5\n",
      "scan 85 - progress: 99.01%"
     ]
    }
   ],
   "source": [
    "h5w.create_hdf5(specdir+specfile,image_prefix='data_mpx4_',imagedir=imgdir,\n",
    "                scan_nos=scan_nos,output_fn=h5_name,sigfig=\"%05d\")"
   ]
  }
 ],
 "metadata": {
  "kernelspec": {
   "display_name": "Python 3",
   "language": "python",
   "name": "python3"
  },
  "language_info": {
   "codemirror_mode": {
    "name": "ipython",
    "version": 2
   },
   "file_extension": ".py",
   "mimetype": "text/x-python",
   "name": "python",
   "nbconvert_exporter": "python",
   "pygments_lexer": "ipython2",
   "version": "2.7.9"
  }
 },
 "nbformat": 4,
 "nbformat_minor": 1
}
