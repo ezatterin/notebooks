{
 "cells": [
  {
   "cell_type": "code",
   "execution_count": null,
   "metadata": {},
   "outputs": [],
   "source": [
    "import pySPM\n",
    "import numpy as np\n",
    "import matplotlib.pyplot as plt\n",
    "import peakutils as pk\n",
    "from scipy.signal import savgol_filter"
   ]
  },
  {
   "cell_type": "code",
   "execution_count": null,
   "metadata": {},
   "outputs": [],
   "source": [
    "afmdir = '/users/zatterin/Documents/data/AFM/kto_pto/'\n",
    "d = 'EDOARDO/29.03.18/day4/'"
   ]
  },
  {
   "cell_type": "code",
   "execution_count": null,
   "metadata": {},
   "outputs": [],
   "source": [
    "ls {afmdir+d}"
   ]
  },
  {
   "cell_type": "code",
   "execution_count": null,
   "metadata": {},
   "outputs": [],
   "source": [
    "fname = afmdir+d+'04012029.0_00001.spm'"
   ]
  },
  {
   "cell_type": "code",
   "execution_count": null,
   "metadata": {},
   "outputs": [],
   "source": [
    "print(fname)"
   ]
  },
  {
   "cell_type": "code",
   "execution_count": null,
   "metadata": {},
   "outputs": [],
   "source": [
    "a = pySPM.Bruker(fname)\n",
    "a.list_channels()"
   ]
  },
  {
   "cell_type": "code",
   "execution_count": null,
   "metadata": {},
   "outputs": [],
   "source": [
    "la = a.get_channel(channel='Amplitude2',backward=True)"
   ]
  },
  {
   "cell_type": "code",
   "execution_count": null,
   "metadata": {},
   "outputs": [],
   "source": [
    "la.size"
   ]
  },
  {
   "cell_type": "code",
   "execution_count": null,
   "metadata": {},
   "outputs": [],
   "source": [
    "class LineProjection(object):\n",
    "    def __init__(self, img, ax, i, q1, q2, n):\n",
    "        self.img = img\n",
    "        self.q1 = q1\n",
    "        self.q2 = q2\n",
    "        self.data = i[:-1,:-1]#np.array(img.get_array()).reshape(img._meshHeight,img._meshWidth)\n",
    "        self.cidclick = img.figure.canvas.mpl_connect('button_press_event', self.on_press)\n",
    "        self.cidrelease = img.figure.canvas.mpl_connect('button_release_event', self.on_release)\n",
    "        self.ax = ax\n",
    "        self.n = n\n",
    "        \n",
    "    def on_press(self,event):\n",
    "        self.press = event.xdata, event.ydata    \n",
    "        if event.inaxes != self.img.axes: return\n",
    "        print('pressed: {0}'.format(self.press))\n",
    "        \n",
    "    def on_release(self,event):\n",
    "        global x, y, Icut, box, mask, maskimg\n",
    "        \n",
    "        start_q1, start_q2 = self.press\n",
    "        end_q1, end_q2 = event.xdata, event.ydata\n",
    "        print('released: {0}, {1}'.format(end_q1, end_q2))\n",
    "\n",
    "        # Make array of qx, qy values along line        \n",
    "        x = np.linspace(start_q1,end_q1,self.n) \n",
    "        y = np.linspace(start_q2,end_q2,self.n)\n",
    "        \n",
    "        # Calc\n",
    "        ind = np.sqrt((q2[:-1,:-1].ravel() - y[:,None])**2 + (q1[:-1,:-1].ravel() - x[:,None])**2) < (10) #min along column\n",
    "        Icut = ((self.data.ravel() * np.ones(ind.shape[0])[:,None]) * ind).sum(1)\n",
    "        box = ind.max(0).reshape(self.data.shape)\n",
    "        mask = np.ma.masked_where(box==1, box)\n",
    "        \n",
    "        # Plot img and cut line - ax0\n",
    "        if len(self.img.axes.lines) == 0:\n",
    "            self.img.axes.plot([start_q1, end_q1], [start_q2, end_q2])\n",
    "        else:\n",
    "            self.img.axes.lines[0].set_data([start_q1, end_q1], [start_q2, end_q2])\n",
    "        self.img.figure.canvas.draw_idle()\n",
    "            \n",
    "        # Show integrated area - ax1\n",
    "        self.ax[1].clear()\n",
    "        ax[1].pcolormesh(q1,q2,i)\n",
    "        ax[1].pcolormesh(q1,q2,mask,alpha=0.2)\n",
    "        self.ax[1].set_aspect('equal')\n",
    "        self.ax[1].figure.canvas.draw_idle()\n",
    "            \n",
    "        # Draw Lines - ax2\n",
    "        self.ax[2].clear()\n",
    "#         self.ax[2].plot((np.sqrt(x**2+y**2)),Icut)\n",
    "        self.ax[2].plot(Icut)\n",
    "        self.ax[2].set_xlabel('Q')\n",
    "        self.ax[2].set_yscale('log')\n",
    "        self.ax[2].figure.canvas.draw_idle()"
   ]
  },
  {
   "cell_type": "code",
   "execution_count": null,
   "metadata": {
    "scrolled": true
   },
   "outputs": [],
   "source": [
    "%matplotlib qt5\n",
    "\n",
    "fig, ax = plt.subplots(1,3,figsize=(10,5))\n",
    "\n",
    "grid = np.linspace(0,500,256)\n",
    "q1, q2 = np.meshgrid(grid,grid)\n",
    "i = la.pixels\n",
    "\n",
    "img = ax[0].pcolormesh(q1,q2,i)\n",
    "ax[0].set_aspect('equal')\n",
    "test = LineProjection(img,ax,i,q1,q2,200)"
   ]
  },
  {
   "cell_type": "code",
   "execution_count": null,
   "metadata": {},
   "outputs": [],
   "source": [
    "# %matplotlib inline\n",
    "\n",
    "# Select cut coordinates\n",
    "start_q1, start_q2 = 232.20766129032256, 247.0352822580645\n",
    "end_q1, end_q2 = 361.59274193548384, 129.64616935483872\n",
    "\n",
    "# Select cut coordinates #2\n",
    "start_q11, start_q22 = 63.4072580645161, 170.77520161290323\n",
    "end_q11, end_q22 = 228.78024193548384, 360.14012096774195\n",
    "\n",
    "# Make array of qx, qy values along line        \n",
    "x = np.linspace(start_q1,end_q1,200) \n",
    "y = np.linspace(start_q2,end_q2,200)\n",
    "\n",
    "# Make array of qx, qy values along line #2       \n",
    "xx = np.linspace(start_q11,end_q11,200) \n",
    "yy = np.linspace(start_q22,end_q22,200)\n",
    "\n",
    "# Data\n",
    "grid = np.linspace(0,500,256)\n",
    "q1, q2 = np.meshgrid(grid,grid)\n",
    "I = la.pixels[:-1,:-1]\n",
    "# i += 1\n",
    "\n",
    "# Calc\n",
    "ind = np.sqrt((q2[:-1,:-1].ravel() - y[:,None])**2 + (q1[:-1,:-1].ravel() - x[:,None])**2) < (10) #min along column\n",
    "Icut_xy = ((I.ravel() * np.ones(ind.shape[0])[:,None]) * ind).sum(1)\n",
    "box = ind.max(0).reshape(I.shape)\n",
    "mask = np.ma.masked_where(box==1, box)\n",
    "# Calc #2\n",
    "ind2 = np.sqrt((q2[:-1,:-1].ravel() - yy[:,None])**2 + (q1[:-1,:-1].ravel() - xx[:,None])**2) < (10) #min along column\n",
    "Icut_xy2 = ((I.ravel() * np.ones(ind2.shape[0])[:,None]) * ind2).sum(1)\n",
    "box2 = ind2.max(0).reshape(I.shape)\n",
    "mask2 = np.ma.masked_where(box2==1, box2)\n",
    "\n",
    "# Plot\n",
    "fig, ax = plt.subplots(1,2,figsize=(12, 4),dpi=100)\n",
    "\n",
    "ax[0].pcolormesh(q1,q2,np.log(I))\n",
    "ax[0].pcolormesh(q1,q2,mask,alpha=0.2)\n",
    "ax[0].pcolormesh(q1,q2,mask2,alpha=0.2)\n",
    "ax[0].set_title('Box being integrated')\n",
    "ax[0].set_aspect('equal')\n",
    "ax[0].set_xlabel('Qx')\n",
    "ax[0].set_ylabel('Qy')\n",
    "\n",
    "ax[1].plot((np.sqrt((x-x.min())**2+(y-y.max())**2)),Icut_xy)\n",
    "ax[1].plot((np.sqrt((xx-xx.min())**2+(yy-yy.min())**2)),Icut_xy2)\n",
    "ax[1].set_title('Integrated profile')\n",
    "ax[1].set_xlabel('Distance [nm]')"
   ]
  },
  {
   "cell_type": "code",
   "execution_count": null,
   "metadata": {},
   "outputs": [],
   "source": [
    "_103i = Icut_xy2"
   ]
  },
  {
   "cell_type": "code",
   "execution_count": null,
   "metadata": {},
   "outputs": [],
   "source": [
    "%matplotlib inline\n",
    "## Calc\n",
    "Icut_xy = savgol_filter(_103i,5,0)\n",
    "idx_xy = pk.indexes(Icut_xy,thres=0.1,min_dist=10)\n",
    "q = np.sqrt((x-x.min())**2+(y-y.max())**2)\n",
    "# The periodicity - calc\n",
    "order = np.array(range(len(idx_xy)))\n",
    "m,b = np.polyfit(order,q[idx_xy],1)\n",
    "period = m\n",
    "\n",
    "## plot\n",
    "fig,(ax1,ax2) = plt.subplots(1,2,figsize=(8,4))\n",
    "plt.suptitle('e17089 - lat pfm cut2 - period: {0} nm'.format(np.round(period,decimals=2)))\n",
    "\n",
    "# The detected peaks\n",
    "ax1.plot(q,Icut_xy)\n",
    "ax1.scatter(q[idx_xy],Icut_xy[idx_xy],c='r')\n",
    "ax1.set_xlabel('Q')\n",
    "\n",
    "# The fit\n",
    "ax2.scatter(order,q[idx_xy],c='r')\n",
    "ax2.plot(order,order*m+b)\n",
    "plt.show()\n",
    "\n",
    "# Output\n",
    "print('Period: {0} nm'.format(period))"
   ]
  }
 ],
 "metadata": {
  "kernelspec": {
   "display_name": "Python 3",
   "language": "python",
   "name": "python3"
  },
  "language_info": {
   "codemirror_mode": {
    "name": "ipython",
    "version": 3
   },
   "file_extension": ".py",
   "mimetype": "text/x-python",
   "name": "python",
   "nbconvert_exporter": "python",
   "pygments_lexer": "ipython3",
   "version": "3.5.3"
  }
 },
 "nbformat": 4,
 "nbformat_minor": 2
}
