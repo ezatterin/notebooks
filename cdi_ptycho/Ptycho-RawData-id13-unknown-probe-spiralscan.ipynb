{
 "cells": [
  {
   "cell_type": "markdown",
   "metadata": {
    "deletable": true,
    "editable": true
   },
   "source": [
    "First, setup the environment so that we have graphics"
   ]
  },
  {
   "cell_type": "code",
   "execution_count": 1,
   "metadata": {
    "collapsed": false,
    "deletable": true,
    "editable": true
   },
   "outputs": [],
   "source": [
    "%matplotlib inline\n",
    "from pylab import rcParams\n",
    "rcParams['figure.figsize'] = (12, 8)  # Figure size for inline display\n",
    "import os"
   ]
  },
  {
   "cell_type": "markdown",
   "metadata": {
    "deletable": true,
    "editable": true
   },
   "source": [
    "Import pynx classes"
   ]
  },
  {
   "cell_type": "code",
   "execution_count": 2,
   "metadata": {
    "collapsed": false,
    "deletable": true,
    "editable": true
   },
   "outputs": [
    {
     "name": "stderr",
     "output_type": "stream",
     "text": [
      "WARNING:fabioimage:PIL is not installed ... trying to do without\n",
      "WARNING:tifimage:PIL is not installed ... trying to do without\n",
      "WARNING:bruker100image:PIL is not installed ... trying to do without\n",
      "WARNING:xsdimage:lxml library is probably not part of your python installation: disabling xsdimage format\n"
     ]
    },
    {
     "name": "stdout",
     "output_type": "stream",
     "text": [
      "gpyfft version: 0.7.0\n",
      "Using SILX for spec access!\n",
      "Import OK\n"
     ]
    }
   ],
   "source": [
    "from pynx.ptycho.runner.id13 import PtychoRunnerScanID13, params\n",
    "print('Import OK')"
   ]
  },
  {
   "cell_type": "markdown",
   "metadata": {
    "deletable": true,
    "editable": true
   },
   "source": [
    "First, make sure all results will be saved in **your sub-directory**, so that all results don't collide !"
   ]
  },
  {
   "cell_type": "code",
   "execution_count": 3,
   "metadata": {
    "collapsed": true,
    "deletable": true,
    "editable": true
   },
   "outputs": [],
   "source": [
    "params['saveprefix']='vincent/ResultsScan%04d/Run%04d'"
   ]
  },
  {
   "cell_type": "markdown",
   "metadata": {
    "deletable": true,
    "editable": true
   },
   "source": [
    "Set the parameters for the optimization.\n",
    "In this case the scan is fast (50ms/point), so intensity is low - crop the data to 256 pixels to save memory"
   ]
  },
  {
   "cell_type": "code",
   "execution_count": 4,
   "metadata": {
    "collapsed": false,
    "deletable": true,
    "editable": true
   },
   "outputs": [],
   "source": [
    "params['specfile']='../20161021id13-siemens2/siemens2.dat'\n",
    "params['scan']=14\n",
    "params['h5file']='../20161021id13-siemens2/pst_fix_he_199_master.h5'\n",
    "params['probe']='40e-6x40e-6,0.01'  # Starting from a simulated probe, here described as gaussian\n",
    "params['defocus']=-100e-6        #Defocus the calculated initial probe by 100 microns\n",
    "params['detectordistance']=1.7598\n",
    "params['ptychomotors']='nnp2,nnp3,-x,y'   # id13 motors\n",
    "params['algorithm'] = '20DM'    # Begin with difference map, object only\n",
    "params['object'] = 'random,0.95,1,0,0.2'   # High energy => start from an almost-flat object\n",
    "params['verbose'] = 10          # Print every 10 cycles\n",
    "params['liveplot'] = True       # Liveplot updated at the end of each cell.\n",
    "#params['moduloframe'] =2,0      # Take only half frames (faster, less memory used)\n",
    "params['maxsize'] = 256         # Use only 256 pixels (faster, less memory used)"
   ]
  },
  {
   "cell_type": "code",
   "execution_count": 5,
   "metadata": {
    "collapsed": false,
    "deletable": true,
    "editable": true
   },
   "outputs": [],
   "source": [
    "ws = PtychoRunnerScanID13(params, params['scan'])"
   ]
  },
  {
   "cell_type": "markdown",
   "metadata": {
    "deletable": true,
    "editable": true
   },
   "source": [
    "Load 2000 frames from a 4M Eiger detector (hdf5 format). This takes a little time"
   ]
  },
  {
   "cell_type": "code",
   "execution_count": null,
   "metadata": {
    "collapsed": false,
    "deletable": true,
    "editable": true
   },
   "outputs": [
    {
     "name": "stdout",
     "output_type": "stream",
     "text": [
      "Read scan: 14  spiralscan nnp3 nnp2 0.1 2000 0.05\n",
      "Pixelsize? 7.500000356230885e-05\n",
      "Reading HDF5 frames: \n",
      "Reading h5 data entry: entry/data/data_000001\n",
      "0 \n",
      "MASKING 250521 pixels from detector flags\n",
      "20 40 60 80 100 120 140 160 180 200 \n",
      "Reading h5 data entry: entry/data/data_000002\n",
      "220 240 260 280 300 320 340 360 380 400 \n",
      "Reading h5 data entry: entry/data/data_000003\n",
      "420 440 460 480 500 520 540 560 580 600 \n",
      "Reading h5 data entry: entry/data/data_000004\n",
      "620 640 660 680 700 720 740 760 780 800 \n",
      "Reading h5 data entry: entry/data/data_000005\n",
      "820 840 860 880 900 920 940 960 980 1000 \n",
      "Reading h5 data entry: entry/data/data_000006\n",
      "1020 1040 1060 1080 1100 1120 1140 1160 1180 1200 \n",
      "Reading h5 data entry: entry/data/data_000007\n",
      "1220 1240 1260 1280 1300 1320 1340 1360 1380 1400 \n",
      "Reading h5 data entry: entry/data/data_000008\n",
      "1420 1440 1460 1480 1500 1520 1540 1560 1580 1600 \n",
      "Reading h5 data entry: entry/data/data_000009\n",
      "1620 1640 1660 1680 1700 1720 1740 1760 1780 1800 \n",
      "Reading h5 data entry: entry/data/data_000010\n",
      "1820 1840 1860 1880 1900 1920 1940 1960 1980 2000 \n",
      "Reading h5 data entry: entry/data/data_000011\n",
      "\n",
      "\n",
      "Time to read all frames: 52.1s [172.18 Mpixel/s]\n"
     ]
    }
   ],
   "source": [
    "ws.load_data()"
   ]
  },
  {
   "cell_type": "code",
   "execution_count": null,
   "metadata": {
    "collapsed": false,
    "deletable": true,
    "editable": true,
    "scrolled": false
   },
   "outputs": [
    {
     "name": "stdout",
     "output_type": "stream",
     "text": [
      "Initialized mask with 250521 ( 5.585%) bad pixels\n"
     ]
    }
   ],
   "source": [
    "ws.center_crop_data()  # Auto-crop the data\n",
    "ws.prepare()  # This will prepare the initial object"
   ]
  },
  {
   "cell_type": "code",
   "execution_count": null,
   "metadata": {
    "collapsed": false,
    "deletable": true,
    "editable": true
   },
   "outputs": [],
   "source": [
    "ws.run()  # Run the optimization,as defined in params['algorithm']"
   ]
  },
  {
   "cell_type": "code",
   "execution_count": null,
   "metadata": {
    "collapsed": false,
    "deletable": true,
    "editable": true
   },
   "outputs": [],
   "source": [
    "ws.run_algorithm('probe=1,40DM')  # Activate probe optimization, continue difference map"
   ]
  },
  {
   "cell_type": "code",
   "execution_count": null,
   "metadata": {
    "collapsed": false,
    "deletable": true,
    "editable": true
   },
   "outputs": [],
   "source": [
    "ws.run_algorithm('50AP')"
   ]
  },
  {
   "cell_type": "code",
   "execution_count": null,
   "metadata": {
    "collapsed": false,
    "deletable": true,
    "editable": true
   },
   "outputs": [],
   "source": [
    "ws.run_algorithm('50ML')"
   ]
  },
  {
   "cell_type": "code",
   "execution_count": null,
   "metadata": {
    "collapsed": false,
    "deletable": true,
    "editable": true
   },
   "outputs": [],
   "source": [
    "ws.run_algorithm('Analyze')  # Analyze the optimized probe (modes, propagation)"
   ]
  },
  {
   "cell_type": "markdown",
   "metadata": {
    "deletable": true,
    "editable": true
   },
   "source": [
    "### Restart using the found probe\n",
    "Restart with the same probe, and a random object"
   ]
  },
  {
   "cell_type": "code",
   "execution_count": null,
   "metadata": {
    "collapsed": false,
    "deletable": true,
    "editable": true
   },
   "outputs": [],
   "source": [
    "params['loadprobe'] = os.path.join(os.path.dirname(params['saveprefix']%(params['scan'], 0)),'latest.npz')\n",
    "ws.prepare()\n",
    "ws.run()"
   ]
  },
  {
   "cell_type": "code",
   "execution_count": null,
   "metadata": {
    "collapsed": false,
    "deletable": true,
    "editable": true
   },
   "outputs": [],
   "source": [
    "ws.run_algorithm('probe=1,80DM')"
   ]
  },
  {
   "cell_type": "code",
   "execution_count": null,
   "metadata": {
    "collapsed": false,
    "deletable": true,
    "editable": true
   },
   "outputs": [],
   "source": [
    "ws.run_algorithm('100AP')"
   ]
  },
  {
   "cell_type": "code",
   "execution_count": null,
   "metadata": {
    "collapsed": false,
    "deletable": true,
    "editable": true
   },
   "outputs": [],
   "source": [
    "ws.run_algorithm('100ML')"
   ]
  },
  {
   "cell_type": "code",
   "execution_count": null,
   "metadata": {
    "collapsed": false,
    "deletable": true,
    "editable": true
   },
   "outputs": [],
   "source": [
    "ws.run_algorithm('Analyze')  # Analyze the optimized probe (modes, propagation)"
   ]
  },
  {
   "cell_type": "code",
   "execution_count": null,
   "metadata": {
    "collapsed": false,
    "deletable": true,
    "editable": true
   },
   "outputs": [],
   "source": [
    "ws.run_algorithm('nbprobe=3,100AP')"
   ]
  },
  {
   "cell_type": "code",
   "execution_count": null,
   "metadata": {
    "collapsed": false,
    "deletable": true,
    "editable": true
   },
   "outputs": [],
   "source": [
    "ws.run_algorithm('100ML')"
   ]
  },
  {
   "cell_type": "code",
   "execution_count": null,
   "metadata": {
    "collapsed": false,
    "deletable": true,
    "editable": true
   },
   "outputs": [],
   "source": [
    "ws.save_plot(ws._run, display_plot=True) # This makes a more elaborate plot than 'liveplot'"
   ]
  },
  {
   "cell_type": "code",
   "execution_count": null,
   "metadata": {
    "collapsed": false,
    "deletable": true,
    "editable": true
   },
   "outputs": [],
   "source": [
    "ws.run_algorithm('Analyze')  # Analyze the optimized probe (modes, propagation)"
   ]
  },
  {
   "cell_type": "code",
   "execution_count": null,
   "metadata": {
    "collapsed": false,
    "deletable": true,
    "editable": true
   },
   "outputs": [],
   "source": [
    "ws.plot_llk_history()"
   ]
  }
 ],
 "metadata": {
  "kernelspec": {
   "display_name": "Python 3",
   "language": "python",
   "name": "python3"
  },
  "language_info": {
   "codemirror_mode": {
    "name": "ipython",
    "version": 3
   },
   "file_extension": ".py",
   "mimetype": "text/x-python",
   "name": "python",
   "nbconvert_exporter": "python",
   "pygments_lexer": "ipython3",
   "version": "3.4.2"
  }
 },
 "nbformat": 4,
 "nbformat_minor": 2
}
