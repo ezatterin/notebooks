{
 "cells": [
  {
   "cell_type": "code",
   "execution_count": 5,
   "metadata": {},
   "outputs": [
    {
     "name": "stdout",
     "output_type": "stream",
     "text": [
      "Computing FFT speed for available CUDA GPU[ranking by fft, fft_shape=(16, 400, 400)]:\n",
      "                                        GeForce GTX 1060 6GB: 6072Mb ,   0.00 Gflop/s\n",
      "                                                Quadro M2000: 4038Mb ,   0.00 Gflop/s\n",
      "Searching available OpenCL GPU[ranking by fft, fft_shape=(16, 400, 400)]:\n",
      "                          GeForce GTX 1060 6GB [NVIDIA CUDA]: 6072Mb [max alloc.: 1518Mb],   0.00 Gflop/s\n",
      "                                  Quadro M2000 [NVIDIA CUDA]: 4038Mb [max alloc.: 1010Mb],   0.00 Gflop/s\n",
      "Using CUDA GPU: GeForce GTX 1060 6GB\n"
     ]
    },
    {
     "data": {
      "text/plain": [
       "True"
      ]
     },
     "execution_count": 5,
     "metadata": {},
     "output_type": "execute_result"
    }
   ],
   "source": [
    "%matplotlib inline\n",
    "import matplotlib.pyplot as plt\n",
    "plt.rcParams['figure.figsize'] = (10.0, 8.0)\n",
    "import sys\n",
    "import timeit\n",
    "from pynx.ptycho.bragg import *\n",
    "from pynx.processing_unit import default_processing_unit\n",
    "from pynx.wavefront import Wavefront, ImshowRGBA, PropagateNearField\n",
    "from pynx.utils.math import smaller_primes\n",
    "from silx.io.specfile import SpecFile\n",
    "import fabio\n",
    "from scipy.ndimage.measurements import center_of_mass\n",
    "default_processing_unit.use_gpu()"
   ]
  },
  {
   "cell_type": "code",
   "execution_count": 6,
   "metadata": {
    "collapsed": true
   },
   "outputs": [],
   "source": [
    "import pycuda.driver as cu_drv\n",
    "cu_drv.init()"
   ]
  },
  {
   "cell_type": "code",
   "execution_count": 4,
   "metadata": {
    "collapsed": true
   },
   "outputs": [],
   "source": [
    "# Bragg ptycho parameters\n",
    "specfile= \"/data/visitor/hc3211/id01/spec/e17089.spec\"\n",
    "scan0, scan1 = 139, 223  # scan range\n",
    "image_prefix= \"/data/visitor/hc3211/id01/mpx/e17089/20171026night//data_mpx4_%05d.edf.gz\""
   ]
  },
  {
   "cell_type": "code",
   "execution_count": null,
   "metadata": {},
   "outputs": [],
   "source": [
    "# \n",
    "# Read spec scans\n",
    "vs = {}\n",
    "first = True\n",
    "for i in range(scan0,scan1+1):\n",
    "    s = SpecFile(specfile)['%d.1' % (i)]\n",
    "    h = s.scan_header_dict\n",
    "    if first:\n",
    "        nrj = float(h['UMONO'].split('mononrj=')[1].split('ke')[0])\n",
    "        wavelength = 12.384 / nrj * 1e-10\n",
    "        print(\"Reading nrj from spec data: nrj=%6.3fkeV, wavelength=%6.3fA\" % (nrj, wavelength*1e10))\n",
    "        detector_distance = float(h['UDETCALIB'].split('stance_CC=')[1].split(',')[0])\n",
    "        #detector_distance = 1.401096\n",
    "        print(\"Detector distance: %6.3fm\"% detector_distance)\n",
    "        first=False\n",
    "    vs[i]={'eta':np.deg2rad(s.motor_position_by_name('eta')),\n",
    "           'phi':np.deg2rad(s.motor_position_by_name('phi')), \n",
    "           'del':np.deg2rad(s.motor_position_by_name('del')),\n",
    "           'del':np.deg2rad(s.motor_position_by_name('del')),\n",
    "           'nu':np.deg2rad(s.motor_position_by_name('nu')),\n",
    "           'mpx4inr':s.data_column_by_name('mpx4inr').astype(np.int),\n",
    "           'pix': s.data_column_by_name('pix') ,'piy': s.data_column_by_name('piy'),\n",
    "           'mpx4int': s.data_column_by_name('mpx4int'),\n",
    "           'roi2': s.data_column_by_name('roi2'),\n",
    "           'roi4': s.data_column_by_name('roi4'),\n",
    "           'filter': float(h['UFILT1'])\n",
    "          }"
   ]
  },
  {
   "cell_type": "code",
   "execution_count": null,
   "metadata": {
    "scrolled": false
   },
   "outputs": [],
   "source": [
    "# Angular scan parameters\n",
    "filter_f = 3.9\n",
    "npsi = len(vs)\n",
    "veta = np.array([ vs[i]['eta'] for i in range(scan0,scan1)])\n",
    "iobssum = np.array([ vs[i]['mpx4int'].sum() * filter_f**vs[i]['filter'] for i in range(scan0,scan1)])\n",
    "roi4sum = np.array([ vs[i]['roi4'].sum() * filter_f**vs[i]['filter'] for i in range(scan0,scan1)])\n",
    "roi2sum = np.array([ vs[i]['roi2'].sum() * filter_f**vs[i]['filter'] for i in range(scan0,scan1)])\n",
    "etastep = (veta[-1] - veta[0])/(len(veta)-1)\n",
    "print(\"Angular range= %5.3f°, step=%6.4f°, %d spirals\"%(np.rad2deg(veta[-1] - veta[0]), np.rad2deg(etastep), npsi))\n",
    "# Intensity vs angle\n",
    "%matplotlib inline\n",
    "plt.semilogy(np.rad2deg(veta), iobssum)\n",
    "#ipsi0 = int(round(center_of_mass(np.array(roi2sum))[0]))\n",
    "ipsi0 = len(iobssum)//2\n",
    "print(ipsi0)"
   ]
  },
  {
   "cell_type": "code",
   "execution_count": null,
   "metadata": {},
   "outputs": [],
   "source": [
    "# Load all images for the central spiralscan\n",
    "iscan0 = scan0 + ipsi0\n",
    "print('iscan0=',iscan0)\n",
    "iobsc = None\n",
    "ii = 0\n",
    "t0= timeit.default_timer()\n",
    "for i in vs[iscan0]['mpx4inr']:\n",
    "    if (i - vs[iscan0]['mpx4inr'][0]) % 20 == 0:\n",
    "        sys.stdout.write('%d ' % (i - vs[iscan0]['mpx4inr'][0]))\n",
    "        sys.stdout.flush()\n",
    "    frame = np.fliplr(fabio.open(image_prefix % i).data)\n",
    "    if iobsc is None:\n",
    "        iobsc = np.empty((len(vs[iscan0]['mpx4inr']), frame.shape[0], frame.shape[1]), dtype=frame.dtype)\n",
    "    iobsc[ii] = frame\n",
    "    ii += 1\n",
    "print(\"\\n\")\n",
    "dt = timeit.default_timer() - t0\n",
    "print('Time to read all frames: %4.1fs [%5.2f Mpixel/s]' % (dt, iobsc.size / 1e6 / dt))"
   ]
  },
  {
   "cell_type": "code",
   "execution_count": null,
   "metadata": {},
   "outputs": [],
   "source": [
    "# Find center of diffraction\n",
    "plt.imshow(np.log10(iobsc.sum(axis=0)))\n",
    "y0, x0 = center_of_mass(iobsc.sum(axis=0))\n",
    "print(\"Center of mass: y0=%5.1f, x0=%5.1f\"%(y0,x0))\n",
    "ny0, nx0 = iobsc.shape[-2:]\n",
    "ix0 = int(round(x0))\n",
    "iy0 = int(round(y0))\n",
    "\n",
    "if True:\n",
    "    # Manually correct position\n",
    "    #ix0 -= 35\n",
    "    iy0 = 100\n",
    "plt.scatter([ix0],[iy0])  # To check visually"
   ]
  },
  {
   "cell_type": "code",
   "execution_count": null,
   "metadata": {},
   "outputs": [],
   "source": [
    "# Size of crop array\n",
    "nx = 2 * min(ix0, nx0 - ix0)\n",
    "ny = 2 * min(iy0, ny0 - iy0)\n",
    "\n",
    "# Not too large\n",
    "if nx > 300:\n",
    "    nx = 300\n",
    "if ny > 300:\n",
    "    ny = 300\n",
    "\n",
    "npsi0 = scan1-scan0  # +1 ?\n",
    "npsi = 2 * min(ipsi0, npsi0 - ipsi0)\n",
    "# crop to max fft size\n",
    "npsi, ny, nx = smaller_primes((npsi, ny, nx), maxprime=default_processing_unit.max_prime_fft, required_dividers=(2,))\n",
    "veta = veta[:npsi]"
   ]
  },
  {
   "cell_type": "code",
   "execution_count": null,
   "metadata": {},
   "outputs": [],
   "source": [
    "# Select area - too many frames !\n",
    "#plt.plot(vs[ic]['pix'],iobsc.sum(axis=(1,2)))\n",
    "v = iobsc.sum(axis=(1,2))\n",
    "xp = vs[iscan0]['pix']\n",
    "yp = vs[iscan0]['piy']\n",
    "zp = 0 * xp\n",
    "%matplotlib inline\n",
    "ax=plt.scatter(xp,yp,40,v/v.max(), vmin=0,vmax=1, cmap=plt.cm.Greys, edgecolors='face')\n",
    "plt.gca().set_aspect(1)\n",
    "plt.xlabel('X (µm)')\n",
    "plt.ylabel('Y (µm)')\n",
    "print(zp.shape)"
   ]
  },
  {
   "cell_type": "code",
   "execution_count": null,
   "metadata": {},
   "outputs": [],
   "source": [
    "vpos = np.arange(len(xp))  #np.nonzero((xp>94.5)*(xp<95.3)*(yp>111)*(yp<111.7))[0]\n",
    "npos = len(vpos)\n",
    "print(\"Number of scan positions selected: %d\"%(npos))"
   ]
  },
  {
   "cell_type": "code",
   "execution_count": null,
   "metadata": {},
   "outputs": [],
   "source": [
    "# Now load all the data\n",
    "iobs = np.empty((npos,npsi,ny,nx),dtype=np.float32)\n",
    "ii = 0\n",
    "t0= timeit.default_timer()\n",
    "print(\"%d frames to read:\"%(npos*npsi))\n",
    "for j in range(len(vpos)):\n",
    "    ipos = vpos[j]\n",
    "    for ipsi in range(npsi):\n",
    "        i = vs[iscan0-npsi//2+ipsi]['mpx4inr'][ipos]\n",
    "        corr = filter_f ** vs[iscan0-npsi//2+ipsi]['filter']\n",
    "        if ii % 20 == 0:\n",
    "            sys.stdout.write('%d ' % (ii))\n",
    "            sys.stdout.flush()\n",
    "        frame = np.fliplr(fabio.open(image_prefix % i).data) * corr\n",
    "        iobs[j, ipsi] = frame[iy0-ny//2:iy0+ny//2,ix0-nx//2:ix0+nx//2]\n",
    "        ii += 1\n",
    "print(\"\\n\")\n",
    "dt = timeit.default_timer() - t0\n",
    "print('Time to read all frames: %4.1fs [%5.2f Mpixel/s]' % (dt, iobs.size / 1e6 / dt))"
   ]
  },
  {
   "cell_type": "code",
   "execution_count": null,
   "metadata": {},
   "outputs": [],
   "source": [
    "%matplotlib inline\n",
    "plt.imshow(np.log10(iobs[6,:].sum(axis=(0))))\n",
    "#plt.imshow(np.log10(iobs.sum(axis=(0,-2))))\n",
    "#plt.imshow(np.log10(iobs[15,16]))"
   ]
  },
  {
   "cell_type": "code",
   "execution_count": null,
   "metadata": {},
   "outputs": [],
   "source": [
    "# Experiment parameters\n",
    "pixel_size_detector = 55e-6\n",
    "psi_step = etastep\n",
    "print(\"Cropped angular range: %6.3f, step=%6.4f\"%(np.rad2deg(psi_step)*npsi, np.rad2deg(psi_step)))"
   ]
  },
  {
   "cell_type": "code",
   "execution_count": null,
   "metadata": {},
   "outputs": [],
   "source": [
    "## Ptycho data\n",
    "\n",
    "# Use only one stack - if memory allows it !\n",
    "default_processing_unit.cl_stack_size = npos\n",
    "\n",
    "# detector parameters\n",
    "nu = vs[scan0]['nu']\n",
    "delta = vs[scan0]['del']\n",
    "eta0 = veta.mean()\n",
    "detector = {'geometry': 'psic', 'delta': delta, 'nu': nu, 'pixel_size': pixel_size_detector,\n",
    "            'distance': detector_distance, 'rotation_axis': 'eta', 'rotation_step': psi_step}\n",
    "zs, ys, xs = zp[vpos] * 1e-6, yp[vpos] * 1e-6, xp[vpos] * 1e-6\n",
    "\n",
    "ys *= np.sin(veta.mean())  # (we don't care about movement along z)\n",
    "\n",
    "print('del= %5.2f nu =%5.2f eta0=%5.2f eta_step=%6.4f'%(np.rad2deg(detector['delta']),np.rad2deg(detector['nu']), np.rad2deg(eta0),np.rad2deg(detector['rotation_step'])))\n",
    "# Create empty data\n",
    "data = BraggPtychoData(iobs=iobs, positions=(zs, -ys, -xs), mask=None, wavelength=wavelength, detector=detector)"
   ]
  },
  {
   "cell_type": "code",
   "execution_count": null,
   "metadata": {},
   "outputs": [],
   "source": [
    "# Import existing probe from 2D ptycho - only the first mode will be used\n",
    "d = np.load(\"ResultsScan0010/latest.npz\") # Siemens star\n",
    "#d = np.load(\"ResultsScan0096/latest.npz\")  # use the bragg ptycho scan\n",
    "dpr = np.fft.fftshift(d['probe'],axes=(-2,-1))  # just flip the x,y axes - not the modes\n",
    "#\n",
    "pr = Wavefront(d=dpr, z=0, pixel_size=d['pixelsize'], wavelength=wavelength)\n",
    "%matplotlib inline\n",
    "pr = ImshowRGBA() * PropagateNearField(0e-6) * pr"
   ]
  },
  {
   "cell_type": "code",
   "execution_count": null,
   "metadata": {},
   "outputs": [],
   "source": [
    "# Create main Bragg Ptycho object\n",
    "p = BraggPtycho(probe=pr, data=data, support=None)\n",
    "pxyz = p.voxel_size_object()\n",
    "print(\"Object voxel size: %6.2fnm x %6.2fnm x %6.2fnm\" % (pxyz[0] * 1e9, pxyz[1] * 1e9, pxyz[2] * 1e9))"
   ]
  },
  {
   "cell_type": "code",
   "execution_count": null,
   "metadata": {},
   "outputs": [],
   "source": [
    "%matplotlib inline\n",
    "# Create starting object\n",
    "x, y, z = p.get_xyz(domain='object', rotation=('x', eta0))\n",
    "obj0 = (abs(y) < 62e-9)\n",
    "#obj0 = obj0 * np.random.uniform(0,1,obj0.shape)\n",
    "p.set_obj(obj0)\n",
    "\n",
    "p = ShowObj() * p\n",
    "\n",
    "# Set a support larger than the object\n",
    "sup = (abs(y) < 100e-9)\n",
    "p.set_support(sup)\n"
   ]
  },
  {
   "cell_type": "code",
   "execution_count": null,
   "metadata": {
    "scrolled": false
   },
   "outputs": [],
   "source": [
    "%matplotlib notebook\n",
    "p = DM(calc_llk=10, show_obj_probe=20) ** 200 * p"
   ]
  },
  {
   "cell_type": "code",
   "execution_count": null,
   "metadata": {
    "scrolled": false
   },
   "outputs": [],
   "source": [
    "p = AP(calc_llk=10, show_obj_probe=10) ** 40 * p\n",
    "p = ML(calc_llk=10, show_obj_probe=10) ** 40 * p"
   ]
  },
  {
   "cell_type": "code",
   "execution_count": null,
   "metadata": {
    "collapsed": true
   },
   "outputs": [],
   "source": [
    "p=FreePU()*p\n",
    "#p=ShowObj()*AP()**40*p"
   ]
  },
  {
   "cell_type": "code",
   "execution_count": null,
   "metadata": {
    "collapsed": true
   },
   "outputs": [],
   "source": [
    "print(\"cos(<phi>=%6.2f)=%6.4f\"%(np.rad2deg(vphi.mean()), np.cos(vphi.mean())))"
   ]
  },
  {
   "cell_type": "code",
   "execution_count": null,
   "metadata": {
    "collapsed": true
   },
   "outputs": [],
   "source": [
    "np.savez_compressed(\"tmp.npz\",obj0=obj0.astype(np.int8),obj=p.get_obj())"
   ]
  },
  {
   "cell_type": "code",
   "execution_count": null,
   "metadata": {
    "collapsed": true
   },
   "outputs": [],
   "source": [
    "np.savez_compressed(\"iobs16.npz\",iobs=iobs[16])"
   ]
  }
 ],
 "metadata": {
  "kernelspec": {
   "display_name": "Python 3",
   "language": "python",
   "name": "python3"
  },
  "language_info": {
   "codemirror_mode": {
    "name": "ipython",
    "version": 3
   },
   "file_extension": ".py",
   "mimetype": "text/x-python",
   "name": "python",
   "nbconvert_exporter": "python",
   "pygments_lexer": "ipython3",
   "version": "3.5.3"
  }
 },
 "nbformat": 4,
 "nbformat_minor": 2
}
