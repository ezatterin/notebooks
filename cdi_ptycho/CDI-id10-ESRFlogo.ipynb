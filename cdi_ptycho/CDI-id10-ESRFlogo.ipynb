{
 "cells": [
  {
   "cell_type": "markdown",
   "metadata": {
    "deletable": true,
    "editable": true
   },
   "source": [
    "Import libraries and setup live inline graphics"
   ]
  },
  {
   "cell_type": "code",
   "execution_count": null,
   "metadata": {
    "collapsed": false,
    "deletable": true,
    "editable": true
   },
   "outputs": [],
   "source": [
    "%matplotlib inline\n",
    "import numpy as np\n",
    "import fabio\n",
    "from pynx.cdi import CDI\n",
    "from pylab import imshow, figure, title, draw"
   ]
  },
  {
   "cell_type": "code",
   "execution_count": null,
   "metadata": {
    "collapsed": true,
    "deletable": true,
    "editable": true
   },
   "outputs": [],
   "source": [
    "iobs = np.fliplr(fabio.open(\"/home/admin/logo/logo5mu_20sec.edf\").data)\n",
    "support = np.flipud(fabio.open(\"/home/admin/logo/mask_logo5mu_20sec.edf\").data)\n",
    "n = len(iobs)"
   ]
  },
  {
   "cell_type": "code",
   "execution_count": null,
   "metadata": {
    "collapsed": false,
    "deletable": true,
    "editable": true
   },
   "outputs": [],
   "source": [
    "figure(figsize=(10, 7))\n",
    "imshow(support, origin='lower')\n",
    "title(\"Support\")"
   ]
  },
  {
   "cell_type": "markdown",
   "metadata": {
    "deletable": true,
    "editable": true
   },
   "source": [
    "Create Mask specific to this dataset (from beamstop, after symmetrization of observed data)"
   ]
  },
  {
   "cell_type": "code",
   "execution_count": null,
   "metadata": {
    "collapsed": false,
    "deletable": true,
    "editable": true
   },
   "outputs": [],
   "source": [
    "x, y = np.meshgrid(np.arange(0, n, dtype=np.float32), np.arange(0, n, dtype=np.float32))\n",
    "mask = np.logical_or(iobs != 0, np.logical_or(abs(x - 256) > 30, abs(y - 256) > 30))\n",
    "mask *= np.logical_or(iobs != 0, np.logical_or(abs(x - 266) > 30, abs(y) < 495))\n",
    "mask *= np.logical_or(iobs != 0, np.logical_or(abs(x - 246) > 30, abs(y) > 20))\n",
    "mask *= np.logical_or(iobs != 0, np.logical_or(abs(x - 10) > 30, abs(y - 240) > 5))\n",
    "mask *= np.logical_or(iobs != 0, np.logical_or(abs(x - 498) > 30, abs(y - 270) > 5))\n",
    "mask = np.fliplr((mask == 0))  # 0: OK, 1: masked\n",
    "figure(figsize=(10, 7))\n",
    "imshow(mask, origin='lower')"
   ]
  },
  {
   "cell_type": "markdown",
   "metadata": {
    "deletable": true,
    "editable": true
   },
   "source": [
    "Run the CDI optimization"
   ]
  },
  {
   "cell_type": "code",
   "execution_count": null,
   "metadata": {
    "collapsed": false,
    "deletable": true,
    "editable": true
   },
   "outputs": [],
   "source": [
    "%matplotlib notebook\n",
    "cdi = CDI(iobs, obj=None, support=support, mask=mask, opencl_device=\"K80\")\n",
    "figure(figsize=(8, 8))\n",
    "cdi.run(500, 'HIO', verbose=50, use_mask=50)\n",
    "cdi.run(100, 'ER', verbose=50, use_mask=True)\n",
    "cdi.ml(40, verbose=20, reg_fac=1e4)\n",
    "cdi.run(100, 'HIO', verbose=50, use_mask=True)\n",
    "cdi.ml(40, verbose=20, reg_fac=1e4)\n",
    "cdi.run(100, 'HIO', verbose=50, use_mask=True)\n",
    "cdi.ml(40, verbose=20, reg_fac=1e4)"
   ]
  },
  {
   "cell_type": "markdown",
   "metadata": {
    "deletable": true,
    "editable": true
   },
   "source": [
    "That was a little too easy, starting from a correct support.... Create a broader support"
   ]
  },
  {
   "cell_type": "code",
   "execution_count": null,
   "metadata": {
    "collapsed": true,
    "deletable": true,
    "editable": true
   },
   "outputs": [],
   "source": [
    "from scipy.ndimage import gaussian_filter\n",
    "support = (gaussian_filter(support.astype(np.float32),5) > 0.1).astype(np.int8)"
   ]
  },
  {
   "cell_type": "code",
   "execution_count": null,
   "metadata": {
    "collapsed": false,
    "deletable": true,
    "editable": true,
    "scrolled": false
   },
   "outputs": [],
   "source": [
    "%matplotlib inline\n",
    "figure(figsize=(10, 7))\n",
    "imshow(support, origin='lower')"
   ]
  },
  {
   "cell_type": "markdown",
   "metadata": {
    "deletable": true,
    "editable": true
   },
   "source": [
    "And optimize again, with support update"
   ]
  },
  {
   "cell_type": "code",
   "execution_count": null,
   "metadata": {
    "collapsed": false,
    "deletable": true,
    "editable": true,
    "scrolled": false
   },
   "outputs": [],
   "source": [
    "%matplotlib notebook\n",
    "cdi = CDI(iobs, obj=None, support=support, mask=mask, opencl_device=\"K80\")\n",
    "figure(figsize=(10, 7))\n",
    "cdi.run(500, 'HIO', verbose=50, use_mask=50, beta=0.9) # Only free masked pixels afetr cycle 50"
   ]
  },
  {
   "cell_type": "code",
   "execution_count": null,
   "metadata": {
    "collapsed": false,
    "deletable": true,
    "editable": true,
    "scrolled": false
   },
   "outputs": [],
   "source": [
    "for i in range(20):\n",
    "    cdi.run(100, 'HIO', verbose=50, use_mask=True, beta=0.9)\n",
    "    cdi.run(50, 'ER', verbose=50, use_mask=True)\n",
    "    cdi.ml(40, verbose=20, reg_fac=1e4, )\n",
    "    cdi.support_update(threshold=0.1, smooth_width=0.5+2*np.exp(-i/10), force_shrink=True)"
   ]
  }
 ],
 "metadata": {
  "kernelspec": {
   "display_name": "Python 3",
   "language": "python",
   "name": "python3"
  },
  "language_info": {
   "codemirror_mode": {
    "name": "ipython",
    "version": 3
   },
   "file_extension": ".py",
   "mimetype": "text/x-python",
   "name": "python",
   "nbconvert_exporter": "python",
   "pygments_lexer": "ipython3",
   "version": "3.4.2"
  }
 },
 "nbformat": 4,
 "nbformat_minor": 2
}
