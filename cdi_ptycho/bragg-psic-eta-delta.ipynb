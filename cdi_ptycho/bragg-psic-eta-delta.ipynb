{
 "cells": [
  {
   "cell_type": "code",
   "execution_count": null,
   "metadata": {},
   "outputs": [],
   "source": [
    "########################################################################\n",
    "#\n",
    "# Example of 3D Bragg ptycho reconstruction from simulated data\n",
    "# (c) ESRF 2017-present\n",
    "# Authors: Vincent Favre-Nicolin <favre@esrf.fr>\n",
    "#\n",
    "########################################################################\n",
    "\n",
    "import timeit\n",
    "import numpy as np\n",
    "from pynx.ptycho.bragg import *\n",
    "from pynx.ptycho.simulation import spiral_archimedes\n",
    "from pynx.wavefront import Wavefront, ImshowRGBA, ImshowAbs\n",
    "import matplotlib.pyplot as plt\n",
    "from pynx.processing_unit import default_processing_unit as main_default_processing_unit\n",
    "\n",
    "main_default_processing_unit.use_gpu()"
   ]
  },
  {
   "cell_type": "code",
   "execution_count": null,
   "metadata": {},
   "outputs": [],
   "source": [
    "# Experiment parameters\n",
    "wavelength = 1.5e-10\n",
    "delta = np.deg2rad(30)\n",
    "nu = 0\n",
    "pixel_size_detector = 55e-6\n",
    "ny, nx = (160, 160)\n",
    "npsi = 80\n",
    "psi_step = np.deg2rad(0.01)\n",
    "detector_distance = 1\n",
    "\n",
    "# Spiralscan positions\n",
    "nb = 10\n",
    "xs, ys = spiral_archimedes(200e-9, nb)\n",
    "zs = np.zeros_like(xs)\n",
    "\n",
    "# This will for using only one stack - if memory allows it !\n",
    "default_processing_unit.cl_stack_size = nb\n",
    "\n",
    "# detector parameters\n",
    "detector = {'geometry': 'psic', 'delta': delta, 'nu': nu, 'pixel_size': pixel_size_detector,\n",
    "            'distance': detector_distance, 'rotation_axis': 'eta', 'rotation_step': psi_step}"
   ]
  },
  {
   "cell_type": "code",
   "execution_count": null,
   "metadata": {},
   "outputs": [],
   "source": [
    "# Create empty data\n",
    "data = BraggPtychoData(iobs=np.empty((nb, npsi, ny, nx), dtype=np.float32), positions=(zs, ys, xs), mask=None,\n",
    "                       wavelength=wavelength, detector=detector)"
   ]
  },
  {
   "cell_type": "code",
   "execution_count": null,
   "metadata": {},
   "outputs": [],
   "source": [
    "# Import existing probe from 2D ptycho\n",
    "d = np.load(\"ResultsScan0014/latest.npz\")\n",
    "#d = np.load(\"/Users/vincent/Analyse/201606id01-FZP/ResultsScan0000/latest.npz\")\n",
    "pr = Wavefront(d=np.fft.fftshift(d['probe'],axes=(-2,-1)), z=0, pixel_size=d['pixelsize'], wavelength=wavelength)\n",
    "%matplotlib inline\n",
    "pr = ImshowRGBA()*pr"
   ]
  },
  {
   "cell_type": "code",
   "execution_count": null,
   "metadata": {},
   "outputs": [],
   "source": [
    "# Create main Bragg Ptycho object\n",
    "p = BraggPtycho(probe=pr, data=data, support=None)\n",
    "pxyz = p.voxel_size_object()\n",
    "print(\"Object voxel size: %6.2fnm x %6.2fnm x %6.2fnm\" % (pxyz[0] * 1e9, pxyz[1] * 1e9, pxyz[2] * 1e9))"
   ]
  },
  {
   "cell_type": "code",
   "execution_count": null,
   "metadata": {},
   "outputs": [],
   "source": [
    "# Create parallelepiped object\n",
    "x0, x1, y0, y1, z0, z1 = -1e-6, 1e-6, -100e-9, 100e-9, -200e-9, 200e-9\n",
    "x, y, z = p.get_xyz(domain='object', rotation=('x', delta / 2))\n",
    "obj0 = (x >= x0) * (x <= x1) * (y >= y0) * (y <= y1) * (z >= z0) * (z <= z1)\n",
    "if True:\n",
    "    # Add some strain\n",
    "    obj1 = obj0 * np.exp(1j * 8 * np.exp(-(x ** 2 + z ** 2) / 200e-9 ** 2))\n",
    "    p.set_obj(obj1)\n",
    "else:\n",
    "    # a few random twin domains\n",
    "    nb_domain = 20\n",
    "    cx = np.random.uniform(x0, x1, nb_domain)\n",
    "    cz = np.random.uniform(z0, z1, nb_domain)\n",
    "    c = (np.random.uniform(0, 1, nb_domain) > 0.5).astype(np.float32)\n",
    "    # distance of eqch domain\n",
    "    dist2 = np.ones_like(obj0, dtype=np.float32)\n",
    "    ph = np.zeros_like(obj0, dtype=np.float32)\n",
    "    for i in range(nb_domain):\n",
    "        d2 = (x - cx[i]) ** 2 + (z - cz[i]) ** 2\n",
    "        ph = ph * (d2 >= dist2) + c[i] * (d2 < dist2)\n",
    "        dist2 = dist2 * (d2 >= dist2) + d2 * (d2 < dist2)\n",
    "    obj1 = obj0 * (2 * ph - 1)  # +/-1\n",
    "    # obj1 = obj0 * np.exp(1j * np.pi / 2 * ph)  # 0 or pi/2\n",
    "    p.set_obj(obj1)\n",
    "    # plt.imshow((np.ma.masked_array(obj1, mask=obj0 < 0.5)).sum(axis=1))\n",
    "%matplotlib inline\n",
    "p = ShowObj() * p"
   ]
  },
  {
   "cell_type": "code",
   "execution_count": null,
   "metadata": {},
   "outputs": [],
   "source": [
    "# Calculate the observed intensity and copy it to the observed ones\n",
    "p = Calc2Obs() * FT() * ObjProbe2Psi() * p\n",
    "# Apply a scale factor and use Poisson noise\n",
    "p.data.iobs = np.random.poisson(p.data.iobs * 1e10 / p.data.iobs.sum())\n",
    "# KLUDGE: we clear GPU data to make sure the new iobs will be used\n",
    "p = FreePU() * p"
   ]
  },
  {
   "cell_type": "code",
   "execution_count": null,
   "metadata": {},
   "outputs": [],
   "source": [
    "# Set a support larger than the object\n",
    "sup = (x >= 1.2 * x0) * (x <= 1.2 * x1) * (y >= 1.2 * y0) * (y <= 1.2 * y1) * (z >= 1.2 * z0) * (z <= 1.2 * z1)\n",
    "p.set_support(sup)\n",
    "\n",
    "# Go back to the unstrained object as a starting point\n",
    "p.set_obj(obj0)"
   ]
  },
  {
   "cell_type": "code",
   "execution_count": null,
   "metadata": {
    "scrolled": false
   },
   "outputs": [],
   "source": [
    "%matplotlib notebook\n",
    "# Solve this\n",
    "p = DM(calc_llk=10, show_obj_probe=10) ** 80 * p\n",
    "p = AP(calc_llk=10, show_obj_probe=10) ** 40 * p\n",
    "p = ML(calc_llk=10, show_obj_probe=10) ** 40 * p\n",
    "\n",
    "p= FreePU() * p  # Free memory\n",
    "\n",
    "# np.savez('/Users/favre/tmp/bragg.npz', probe3d=p._probe3d, obj=p.get_obj(), probe2d=pr.get(shift=True), x=x, y=y, z=z)"
   ]
  },
  {
   "cell_type": "code",
   "execution_count": null,
   "metadata": {},
   "outputs": [],
   "source": []
  }
 ],
 "metadata": {
  "kernelspec": {
   "display_name": "Python 3",
   "language": "python",
   "name": "python3"
  },
  "language_info": {
   "codemirror_mode": {
    "name": "ipython",
    "version": 3
   },
   "file_extension": ".py",
   "mimetype": "text/x-python",
   "name": "python",
   "nbconvert_exporter": "python",
   "pygments_lexer": "ipython3",
   "version": "3.4.2"
  }
 },
 "nbformat": 4,
 "nbformat_minor": 2
}
