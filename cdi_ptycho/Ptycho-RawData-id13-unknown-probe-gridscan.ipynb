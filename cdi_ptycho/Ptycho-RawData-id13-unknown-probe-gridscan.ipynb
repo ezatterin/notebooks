{
 "cells": [
  {
   "cell_type": "markdown",
   "metadata": {
    "deletable": true,
    "editable": true
   },
   "source": [
    "First, setup the environment so that we have graphics"
   ]
  },
  {
   "cell_type": "code",
   "execution_count": null,
   "metadata": {
    "collapsed": false,
    "deletable": true,
    "editable": true
   },
   "outputs": [],
   "source": [
    "%matplotlib inline\n",
    "from pylab import rcParams\n",
    "rcParams['figure.figsize'] = (12, 8)  # Figure size for inline display\n",
    "import os"
   ]
  },
  {
   "cell_type": "markdown",
   "metadata": {
    "deletable": true,
    "editable": true
   },
   "source": [
    "Import pynx classes"
   ]
  },
  {
   "cell_type": "code",
   "execution_count": null,
   "metadata": {
    "collapsed": false,
    "deletable": true,
    "editable": true
   },
   "outputs": [],
   "source": [
    "from pynx.ptycho.runner.id13 import PtychoRunnerScanID13, params\n",
    "print('Import OK')"
   ]
  },
  {
   "cell_type": "markdown",
   "metadata": {
    "deletable": true,
    "editable": true
   },
   "source": [
    "First, make sure all results will be saved in **your sub-directory**, so that all results don't collide !"
   ]
  },
  {
   "cell_type": "code",
   "execution_count": null,
   "metadata": {
    "collapsed": true,
    "deletable": true,
    "editable": true
   },
   "outputs": [],
   "source": [
    "params['saveprefix']='vincent/ResultsScan%04d/Run%04d'"
   ]
  },
  {
   "cell_type": "markdown",
   "metadata": {
    "deletable": true,
    "editable": true
   },
   "source": [
    "Set the parameters for the optimization.\n",
    "In this case the scan is fast (50ms/point), so intensity is low - crop the data to 256 pixels to save memory.\n",
    "\n",
    "**NOTE**: there are 61\\*61 images of 2070x2167 Mbytes, so this requires **64 Gb** for the raw data."
   ]
  },
  {
   "cell_type": "code",
   "execution_count": null,
   "metadata": {
    "collapsed": false,
    "deletable": true,
    "editable": true
   },
   "outputs": [],
   "source": [
    "params['specfile']='/home/pynx/UM2017/20161021id13-siemens2/siemens2.dat'\n",
    "params['scan']=13\n",
    "params['h5file']='/home/pynx/UM2017/20161021id13-siemens2/pst_fix_he_198_master.h5'\n",
    "params['probe']='40e-6x40e-6,0.01'  # Starting from a simulated probe, here described as gaussian\n",
    "params['defocus']=-100e-6        #Defocus the calculated initial probe by 100 microns\n",
    "params['detectordistance']=1.7598\n",
    "params['ptychomotors']='nnp2,nnp3,-x,y'   # id13 motors\n",
    "params['algorithm'] = '20DM'    # Begin with difference map, object only\n",
    "params['object'] = 'random,0.95,1,0,0.2'   # High energy => start from an almost-flat object\n",
    "params['verbose'] = 10          # Print every 10 cycles\n",
    "params['liveplot'] = True       # Liveplot updated at the end of each cell.\n",
    "#params['moduloframe'] =2,0      # Take only half frames (faster, less memory used)\n",
    "params['maxsize'] = 256         # Use only 256 pixels (faster, less memory used)\n",
    "params['roi'] = 1131,1387,861,1117       # xmin, xmax, ymin, ymax. Data is partially corrupted so use manual ROI"
   ]
  },
  {
   "cell_type": "code",
   "execution_count": null,
   "metadata": {
    "collapsed": false,
    "deletable": true,
    "editable": true
   },
   "outputs": [],
   "source": [
    "ws = PtychoRunnerScanID13(params, params['scan'])"
   ]
  },
  {
   "cell_type": "markdown",
   "metadata": {
    "deletable": true,
    "editable": true
   },
   "source": [
    "Load all frames from the Eiger HDF5 data. ***There are 3721 frames so this takes a while !***"
   ]
  },
  {
   "cell_type": "code",
   "execution_count": null,
   "metadata": {
    "collapsed": false,
    "deletable": true,
    "editable": true
   },
   "outputs": [],
   "source": [
    "ws.load_data()"
   ]
  },
  {
   "cell_type": "code",
   "execution_count": null,
   "metadata": {
    "collapsed": false,
    "deletable": true,
    "editable": true,
    "scrolled": false
   },
   "outputs": [],
   "source": [
    "ws.center_crop_data()  # Crop raw data\n",
    "ws.prepare()  # This will prepare the initial object and probe"
   ]
  },
  {
   "cell_type": "code",
   "execution_count": null,
   "metadata": {
    "collapsed": false,
    "deletable": true,
    "editable": true
   },
   "outputs": [],
   "source": [
    "ws.run()  # Run the optimization,as defined in params['algorithm']"
   ]
  },
  {
   "cell_type": "code",
   "execution_count": null,
   "metadata": {
    "collapsed": false,
    "deletable": true,
    "editable": true
   },
   "outputs": [],
   "source": [
    "ws.run_algorithm('probe=1,40DM')  # Activate probe optimization, continue difference map"
   ]
  },
  {
   "cell_type": "code",
   "execution_count": null,
   "metadata": {
    "collapsed": false,
    "deletable": true,
    "editable": true
   },
   "outputs": [],
   "source": [
    "ws.run_algorithm('50AP')"
   ]
  },
  {
   "cell_type": "code",
   "execution_count": null,
   "metadata": {
    "collapsed": false,
    "deletable": true,
    "editable": true
   },
   "outputs": [],
   "source": [
    "ws.run_algorithm('50ML')"
   ]
  },
  {
   "cell_type": "code",
   "execution_count": null,
   "metadata": {
    "collapsed": false,
    "deletable": true,
    "editable": true
   },
   "outputs": [],
   "source": [
    "ws.run_algorithm('Analyze')  # Analyze the optimized probe (modes, propagation)"
   ]
  },
  {
   "cell_type": "markdown",
   "metadata": {
    "deletable": true,
    "editable": true
   },
   "source": [
    "### Restart using the found probe\n",
    "Restart with the same probe, and a random object"
   ]
  },
  {
   "cell_type": "code",
   "execution_count": null,
   "metadata": {
    "collapsed": false,
    "deletable": true,
    "editable": true
   },
   "outputs": [],
   "source": [
    "params['loadprobe'] = os.path.join(os.path.dirname(params['saveprefix']%(params['scan'], 0)),'latest.npz')\n",
    "ws.prepare()\n",
    "ws.run()"
   ]
  },
  {
   "cell_type": "code",
   "execution_count": null,
   "metadata": {
    "collapsed": false,
    "deletable": true,
    "editable": true
   },
   "outputs": [],
   "source": [
    "ws.run_algorithm('probe=1,80DM')"
   ]
  },
  {
   "cell_type": "code",
   "execution_count": null,
   "metadata": {
    "collapsed": false,
    "deletable": true,
    "editable": true
   },
   "outputs": [],
   "source": [
    "ws.run_algorithm('100AP')"
   ]
  },
  {
   "cell_type": "code",
   "execution_count": null,
   "metadata": {
    "collapsed": false,
    "deletable": true,
    "editable": true
   },
   "outputs": [],
   "source": [
    "ws.run_algorithm('100ML')"
   ]
  },
  {
   "cell_type": "code",
   "execution_count": null,
   "metadata": {
    "collapsed": false,
    "deletable": true,
    "editable": true
   },
   "outputs": [],
   "source": [
    "ws.run_algorithm('Analyze')  # Analyze the optimized probe (modes, propagation)"
   ]
  },
  {
   "cell_type": "code",
   "execution_count": null,
   "metadata": {
    "collapsed": false,
    "deletable": true,
    "editable": true
   },
   "outputs": [],
   "source": [
    "ws.run_algorithm('nbprobe=3,100AP')"
   ]
  },
  {
   "cell_type": "code",
   "execution_count": null,
   "metadata": {
    "collapsed": false,
    "deletable": true,
    "editable": true
   },
   "outputs": [],
   "source": [
    "ws.run_algorithm('100ML')"
   ]
  },
  {
   "cell_type": "code",
   "execution_count": null,
   "metadata": {
    "collapsed": false,
    "deletable": true,
    "editable": true
   },
   "outputs": [],
   "source": [
    "ws.save_plot(ws._run, display_plot=True) # This makes a more elaborate plot than 'liveplot'"
   ]
  },
  {
   "cell_type": "code",
   "execution_count": null,
   "metadata": {
    "collapsed": false,
    "deletable": true,
    "editable": true
   },
   "outputs": [],
   "source": [
    "ws.run_algorithm('Analyze')  # Analyze the optimized probe (modes, propagation)"
   ]
  },
  {
   "cell_type": "code",
   "execution_count": null,
   "metadata": {
    "collapsed": false,
    "deletable": true,
    "editable": true
   },
   "outputs": [],
   "source": [
    "ws.plot_llk_history()"
   ]
  }
 ],
 "metadata": {
  "kernelspec": {
   "display_name": "Python 3",
   "language": "python",
   "name": "python3"
  },
  "language_info": {
   "codemirror_mode": {
    "name": "ipython",
    "version": 3
   },
   "file_extension": ".py",
   "mimetype": "text/x-python",
   "name": "python",
   "nbconvert_exporter": "python",
   "pygments_lexer": "ipython3",
   "version": "3.4.2"
  }
 },
 "nbformat": 4,
 "nbformat_minor": 2
}
