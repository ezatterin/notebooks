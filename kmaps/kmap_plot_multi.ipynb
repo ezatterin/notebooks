{
 "cells": [
  {
   "cell_type": "code",
   "execution_count": 11,
   "metadata": {
    "collapsed": false,
    "deletable": true,
    "editable": true,
    "scrolled": true
   },
   "outputs": [],
   "source": [
    "import PyMca5 as mca\n",
    "import numpy as np\n",
    "import matplotlib.pyplot as plt\n",
    "\n",
    "# %matplotlib inline\n",
    "# %config InlineBackend.figure_format = 'retina'\n",
    "\n",
    "specdir = '../inhouse_edo/IHR_20161114/spec/'"
   ]
  },
  {
   "cell_type": "code",
   "execution_count": 12,
   "metadata": {
    "collapsed": false,
    "deletable": true,
    "editable": true,
    "scrolled": true
   },
   "outputs": [
    {
     "name": "stdout",
     "output_type": "stream",
     "text": [
      "20161115_E16095_fast_00011.spec\n",
      "20161117_E16095_fast_00003.spec\n",
      "20161117_E16095_fast_00005.spec\n"
     ]
    }
   ],
   "source": [
    "files = !ls {specdir} | grep spec | grep fast | grep E16095\n",
    "for fname in files: print(fname)\n",
    "sample_name = 'e16095'\n",
    "rois = ['mpx4int', 'mpx4ro1', 'mpx4ro2']"
   ]
  },
  {
   "cell_type": "markdown",
   "metadata": {
    "deletable": true,
    "editable": true
   },
   "source": [
    "Plot and save to ``img`` dir"
   ]
  },
  {
   "cell_type": "code",
   "execution_count": 13,
   "metadata": {
    "collapsed": false,
    "deletable": true,
    "editable": true
   },
   "outputs": [],
   "source": [
    "for specfile in files:\n",
    "    sf = mca.specfile.Specfile(specdir+specfile)\n",
    "    for scan_no in np.arange(sf.scanno()):\n",
    "\n",
    "        # get the scan\n",
    "        scan = sf[scan_no]\n",
    "        # get the data and the rois\n",
    "        data = scan.data()\n",
    "        index_list = scan.alllabels()\n",
    "\n",
    "        # plotting\n",
    "        fig = plt.figure(figsize=(17,5))\n",
    "        tot_fig = len(rois)\n",
    "\n",
    "        for index, what2plot in enumerate(rois): # rois tbd beforehand\n",
    "\n",
    "            plt.subplot(1, tot_fig, index+1)\n",
    "            # load data\n",
    "            rawdata = data[index_list.index(what2plot)]\n",
    "            motor_1 = data[index_list.index('adcX')]\n",
    "            motor_2 = data[index_list.index('adcY')]\n",
    "            new_shape = (int(scan.command().split()[8]), int(scan.command().split()[4]))\n",
    "            # apply dimensions\n",
    "            rawdata.shape, motor_1.shape, motor_2.shape = new_shape, new_shape, new_shape\n",
    "            # plot it\n",
    "            plt.pcolormesh(motor_1, motor_2, rawdata)\n",
    "            plt.axis([motor_1.min(),motor_1.max(),motor_2.min(),motor_2.max()])\n",
    "            plt.ylabel('piy')\n",
    "            plt.xlabel('piz')\n",
    "            plt.colorbar(fraction=0.04)\n",
    "            plt.title('#: {0}, {1} - '.format(scan_no, what2plot)+sample_name)\n",
    "    #       plt.axes().set_aspect('equal') can't use it, looks difficult to fix... figsize for now.\n",
    "        fig.tight_layout()\n",
    "        plt.savefig('../img/kmaps_pcolormesh/{0}/{1}_n{2}.png'.format(sample_name,specfile,scan_no))"
   ]
  },
  {
   "cell_type": "code",
   "execution_count": null,
   "metadata": {
    "collapsed": true
   },
   "outputs": [],
   "source": []
  }
 ],
 "metadata": {
  "kernelspec": {
   "display_name": "Python 3",
   "language": "python",
   "name": "python3"
  },
  "language_info": {
   "codemirror_mode": {
    "name": "ipython",
    "version": 3
   },
   "file_extension": ".py",
   "mimetype": "text/x-python",
   "name": "python",
   "nbconvert_exporter": "python",
   "pygments_lexer": "ipython3",
   "version": "3.4.2"
  }
 },
 "nbformat": 4,
 "nbformat_minor": 0
}
