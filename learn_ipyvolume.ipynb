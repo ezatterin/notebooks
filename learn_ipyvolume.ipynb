{
 "cells": [
  {
   "cell_type": "code",
   "execution_count": 1,
   "metadata": {},
   "outputs": [
    {
     "name": "stderr",
     "output_type": "stream",
     "text": [
      "/users/zatterin/Envs/py3/lib/python3.5/site-packages/h5py/__init__.py:36: FutureWarning: Conversion of the second argument of issubdtype from `float` to `np.floating` is deprecated. In future, it will be treated as `np.float64 == np.dtype(float).type`.\n",
      "  from ._conv import register_converters as _register_converters\n"
     ]
    }
   ],
   "source": [
    "import numpy as np\n",
    "import h5py\n",
    "import ipyvolume as ipv\n",
    "\n",
    "from id01lib import id01h5\n",
    "from id01lib.xrd.qconversion import scan_to_qspace_h5,qconvert_mgrid\n",
    "from id01lib.xrd.geometries import ID01psic\n",
    "from id01lib.xrd.detectors import Eiger2M"
   ]
  },
  {
   "cell_type": "code",
   "execution_count": 2,
   "metadata": {},
   "outputs": [
    {
     "name": "stdout",
     "output_type": "stream",
     "text": [
      "Selected /E16095_furnace/34.1\n",
      "Offsets used: mu = 0.0, rhx = 0.656, phi = 1.994, nu = 0.0, rhz = 0.0, eta = 0.0, delta = 0.0, rhy = 0.0, \n",
      "Max. number of bins: 355, 532, 518\n",
      "Using binning: (100, 100, 100)\n"
     ]
    }
   ],
   "source": [
    "# Sample and scans\n",
    "fname = '/users/zatterin/Documents/beam/20170712_HC2912/data/hc2912.h5'\n",
    "sample = 'E16095_furnace'\n",
    "scan_no = 34\n",
    "\n",
    "# Experimental parameters\n",
    "det_distance =  0.422\n",
    "cen_pix = [281.847,278.792] # x, y\n",
    "nrj=8\n",
    "nbins = (100,100,100)\n",
    "\n",
    "# Open the h5 file\n",
    "with h5py.File(fname) as h5f:\n",
    "    \n",
    "    # read / set offsets\n",
    "    scan = h5f['/{0}/{1}.1'.format(sample,scan_no)]\n",
    "    phi_off = h5f['/{0}/{1}.1/instrument/positioners/phi'.format(sample,scan_no)].value\n",
    "    rhx_off = h5f['/{0}/{1}.1/instrument/positioners/rhx'.format(sample,scan_no)].value\n",
    "    rhy_off = h5f['/{0}/{1}.1/instrument/positioners/rhy'.format(sample,scan_no)].value\n",
    "    nu_off =  h5f['/{0}/{1}.1/instrument/positioners/nu'.format(sample,scan_no)].value\n",
    "    ID01psic().usemotors = set(('eta', 'phi', 'nu', 'delta'))\n",
    "    \n",
    "    # set to corresponding offsets if needed\n",
    "    ID01psic().set_offsets(eta=0, rhy=0, rhx=0.656, phi=1.994, nu=0)\n",
    "    \n",
    "    # convert to q space\n",
    "    qx, qy, qz, gint = scan_to_qspace_h5(scan, \n",
    "                                         cen_pix=(cen_pix[1],cen_pix[0]), \n",
    "                                         distance=det_distance, \n",
    "                                         energy=8,\n",
    "                                         nbins=nbins)"
   ]
  },
  {
   "cell_type": "code",
   "execution_count": 3,
   "metadata": {},
   "outputs": [
    {
     "name": "stdout",
     "output_type": "stream",
     "text": [
      "\n",
      "Gridding with bins: (100, 100, 100)\n"
     ]
    }
   ],
   "source": [
    "qxx, qyy, qzz, i = qconvert_mgrid(qx, qy, qz, gint, 5)"
   ]
  },
  {
   "cell_type": "code",
   "execution_count": 4,
   "metadata": {},
   "outputs": [],
   "source": [
    "ipv.plot_isosurface?"
   ]
  },
  {
   "cell_type": "code",
   "execution_count": 19,
   "metadata": {
    "scrolled": false
   },
   "outputs": [
    {
     "data": {
      "application/vnd.jupyter.widget-view+json": {
       "model_id": "94258cae4d084ad4a232112352a00119",
       "version_major": 2,
       "version_minor": 0
      },
      "text/plain": [
       "VBox(children=(VBox(children=(HBox(children=(Label(value='levels:'), FloatSlider(value=0.1, max=1.0, step=0.00…"
      ]
     },
     "metadata": {},
     "output_type": "display_data"
    }
   ],
   "source": [
    "ipv.clear()\n",
    "ipv.figure()\n",
    "ipv.volshow(i)\n",
    "ipv.xlim(qx.min(), qx.max())\n",
    "ipv.ylim(qy.min(), qy.max())\n",
    "ipv.zlim(qz.min(), qz.max())\n",
    "ipv.show()"
   ]
  },
  {
   "cell_type": "code",
   "execution_count": 6,
   "metadata": {
    "scrolled": false
   },
   "outputs": [],
   "source": [
    "ipv.volshow?"
   ]
  }
 ],
 "metadata": {
  "kernelspec": {
   "display_name": "Python 3",
   "language": "python",
   "name": "python3"
  },
  "language_info": {
   "codemirror_mode": {
    "name": "ipython",
    "version": 3
   },
   "file_extension": ".py",
   "mimetype": "text/x-python",
   "name": "python",
   "nbconvert_exporter": "python",
   "pygments_lexer": "ipython3",
   "version": "3.5.3"
  }
 },
 "nbformat": 4,
 "nbformat_minor": 2
}
