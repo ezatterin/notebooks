{
 "cells": [
  {
   "cell_type": "code",
   "execution_count": 9,
   "metadata": {},
   "outputs": [],
   "source": [
    "import numpy as np\n",
    "import h5py\n",
    "import matplotlib.pyplot as plt\n",
    "import matplotlib\n",
    "\n",
    "from id01lib import id01h5\n",
    "from id01lib.xrd.qconversion import scan_to_qspace_h5,qconvert_mgrid\n",
    "from id01lib.xrd.geometries import ID01psic\n",
    "from mpl_toolkits.axes_grid1 import make_axes_locatable\n",
    "from silx.io import specfile as spec\n",
    "from ipywidgets import interact\n",
    "\n",
    "matplotlib.rcParams['text.usetex'] = True\n",
    "matplotlib.rcParams['text.latex.unicode'] = True\n",
    "matplotlib.rcParams['font.size'] = 10\n",
    "\n",
    "plt.rc('text', usetex=True)\n",
    "plt.rc('font', family='serif')\n",
    "\n",
    "%gui qt5"
   ]
  },
  {
   "cell_type": "code",
   "execution_count": 2,
   "metadata": {},
   "outputs": [
    {
     "name": "stdout",
     "output_type": "stream",
     "text": [
      "Selected /E16095_furnace/34.1\n",
      "Offsets used: eta = 0.0, rhx = 0.656, nu = 0.0, phi = 1.994, rhy = 0.0, rhz = 0.0, mu = 0.0, delta = 0.0, \n",
      "Max. number of bins: 355, 532, 518\n",
      "Using binning: (200, 200, 200)\n"
     ]
    }
   ],
   "source": [
    "# Sample and scans\n",
    "fname = '/users/zatterin/Documents/beam/20170712_HC2912/data/hc2912.h5'\n",
    "sample = 'E16095_furnace'\n",
    "scan_no = 34\n",
    "\n",
    "# Experimental parameters\n",
    "det_distance =  0.422\n",
    "cen_pix = [281.847,278.792] # x, y\n",
    "nrj=8\n",
    "nbins = (200,200,200)\n",
    "# nbins = (-1,-1,-1)\n",
    "\n",
    "# Open the h5 file\n",
    "with h5py.File(fname) as h5f:\n",
    "    \n",
    "    # read / set offsets\n",
    "    scan = h5f['/{0}/{1}.1'.format(sample,scan_no)]\n",
    "    phi_off = h5f['/{0}/{1}.1/instrument/positioners/phi'.format(sample,scan_no)].value\n",
    "    rhx_off = h5f['/{0}/{1}.1/instrument/positioners/rhx'.format(sample,scan_no)].value\n",
    "    rhy_off = h5f['/{0}/{1}.1/instrument/positioners/rhy'.format(sample,scan_no)].value\n",
    "    nu_off =  h5f['/{0}/{1}.1/instrument/positioners/nu'.format(sample,scan_no)].value\n",
    "    ID01psic().usemotors = set(('eta', 'phi', 'nu', 'delta'))\n",
    "    \n",
    "    # set to corresponding offsets if needed\n",
    "    ID01psic().set_offsets(eta=0, rhy=0, rhx=0.656, phi=1.994, nu=0)\n",
    "    \n",
    "    # convert to q space\n",
    "    qx, qy, qz, gint = scan_to_qspace_h5(scan, \n",
    "                                         cen_pix=(cen_pix[1],cen_pix[0]), \n",
    "                                         distance=det_distance, \n",
    "                                         energy=8,\n",
    "                                         nbins=nbins)"
   ]
  },
  {
   "cell_type": "code",
   "execution_count": 3,
   "metadata": {
    "scrolled": true
   },
   "outputs": [
    {
     "name": "stdout",
     "output_type": "stream",
     "text": [
      "\n",
      "Gridding with bins: (200, 200, 200)\n"
     ]
    }
   ],
   "source": [
    "qxx, qyy, qzz, i = qconvert_mgrid(qx, qy, qz, gint, 4.5)"
   ]
  },
  {
   "cell_type": "code",
   "execution_count": 4,
   "metadata": {},
   "outputs": [
    {
     "data": {
      "text/plain": [
       "(1.9840718817214302, 6.48407188172143)"
      ]
     },
     "execution_count": 4,
     "metadata": {},
     "output_type": "execute_result"
    }
   ],
   "source": [
    "i.min(), i.max()"
   ]
  },
  {
   "cell_type": "code",
   "execution_count": 12,
   "metadata": {},
   "outputs": [],
   "source": [
    "plt.clim?"
   ]
  },
  {
   "cell_type": "code",
   "execution_count": 29,
   "metadata": {},
   "outputs": [
    {
     "data": {
      "application/vnd.jupyter.widget-view+json": {
       "model_id": "7804ee67b6d6473c89694b8c2c703dec",
       "version_major": 2,
       "version_minor": 0
      },
      "text/plain": [
       "interactive(children=(IntSlider(value=50, description='n', max=200), Checkbox(value=False, description='savefi…"
      ]
     },
     "metadata": {},
     "output_type": "display_data"
    }
   ],
   "source": [
    "%matplotlib inline\n",
    "\n",
    "@interact(n=(0,i.shape[2],1))\n",
    "def plt_zslice(n=50, savefig=False):\n",
    "    maskedi = np.ma.masked_where(i<=i.min(),i)\n",
    "    toplot = maskedi[:,:,n]\n",
    "    # toplot = np.log(gint.sum(0))\n",
    "\n",
    "    fig = plt.figure(dpi=150, facecolor='white')\n",
    "    ax = plt.gca()\n",
    "    ax.axis('equal')\n",
    "\n",
    "    im = plt.contourf(qxx[:,:,0],qyy[:,:,0],toplot,30,cmap='jet', vmin=2, vmax=4.5)\n",
    "\n",
    "    plt.locator_params(axis='x',nbins=5)\n",
    "    plt.locator_params(axis='y',nbins=5)\n",
    "\n",
    "    # Colorbar hacks\n",
    "    divider = make_axes_locatable(ax)\n",
    "    coloraxis = divider.append_axes('top', size='5%', pad=0.05)\n",
    "    cbar = plt.colorbar(im, cax=coloraxis, orientation=\"horizontal\")\n",
    "    coloraxis.xaxis.set_ticks_position(\"top\")\n",
    "    tick_locator = matplotlib.ticker.MaxNLocator(nbins=5)\n",
    "    cbar.locator = tick_locator\n",
    "    cbar.ax.tick_params(labelsize=10)\n",
    "    cbar.update_ticks()\n",
    "\n",
    "    # Labels etc\n",
    "    ax.set_ylabel(r'$\\mathbf{Q_y}$')\n",
    "    ax.set_xlabel(r'$\\mathbf{Q_x}$')\n",
    "    ax.set_xlim(-0.1, 0.1)\n",
    "    ax.set_ylim(-0.1, 0.1)\n",
    "\n",
    "    if savefig:\n",
    "        plt.savefig('001cut_{0}.pdf'.format(n))"
   ]
  },
  {
   "cell_type": "code",
   "execution_count": 38,
   "metadata": {
    "scrolled": false
   },
   "outputs": [
    {
     "data": {
      "image/png": "[encoded data removed]",
      "text/plain": [
       "<Figure size 900x600 with 2 Axes>"
      ]
     },
     "metadata": {},
     "output_type": "display_data"
    }
   ],
   "source": [
    "%matplotlib inline\n",
    "# toplot = np.log(gint.sum(0))\n",
    "maskedi = np.ma.masked_where(i<=i.min(),i)\n",
    "toplot = maskedi.sum(1)\n",
    "\n",
    "fig = plt.figure(dpi=150, facecolor='white')\n",
    "ax = plt.gca()\n",
    "ax.axis('equal')\n",
    "\n",
    "im = plt.contourf(qxx[:,0,:],qzz[:,0,:],toplot,30,cmap='jet',vmax=300)\n",
    "\n",
    "divider = make_axes_locatable(ax)\n",
    "coloraxis = divider.append_axes('right', size='3%', pad=0.05)\n",
    "cbar = plt.colorbar(im, cax=coloraxis)\n",
    "\n",
    "ax.tick_params(axis='both',bottom=False, left=False, labelleft=False, labelbottom=False)\n",
    "\n",
    "# plt.savefig('001y.svg')"
   ]
  }
 ],
 "metadata": {
  "kernelspec": {
   "display_name": "Python 3",
   "language": "python",
   "name": "python3"
  },
  "language_info": {
   "codemirror_mode": {
    "name": "ipython",
    "version": 3
   },
   "file_extension": ".py",
   "mimetype": "text/x-python",
   "name": "python",
   "nbconvert_exporter": "python",
   "pygments_lexer": "ipython3",
   "version": "3.5.3"
  }
 },
 "nbformat": 4,
 "nbformat_minor": 2
}
