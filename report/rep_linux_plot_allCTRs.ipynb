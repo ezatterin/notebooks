{
 "cells": [
  {
   "cell_type": "code",
   "execution_count": 39,
   "metadata": {
    "scrolled": true
   },
   "outputs": [
    {
     "name": "stderr",
     "output_type": "stream",
     "text": [
      "/users/zatterin/Envs/py2/local/lib/python2.7/site-packages/matplotlib/__init__.py:1405: UserWarning: \n",
      "This call to matplotlib.use() has no effect because the backend has already\n",
      "been chosen; matplotlib.use() must be called *before* pylab, matplotlib.pyplot,\n",
      "or matplotlib.backends is imported for the first time.\n",
      "\n",
      "  warnings.warn(_use_error_msg)\n"
     ]
    }
   ],
   "source": [
    "import numpy as np\n",
    "from ipywidgets import interact, fixed\n",
    "import matplotlib as mpl\n",
    "pgf_with_latex = {                      # setup matplotlib to use latex for output\n",
    "    \"pgf.texsystem\": \"pdflatex\",        # change this if using xetex or lautex\n",
    "    \"text.usetex\": True,                # use LaTeX to write all text\n",
    "    \"font.family\": \"serif\",\n",
    "    \"font.serif\": [],                   # blank entries should cause plots to inherit fonts from the document\n",
    "    \"font.sans-serif\": [],\n",
    "    \"font.monospace\": [],\n",
    "    \"axes.labelsize\": 13,               # LaTeX default is 10pt font.\n",
    "    \"font.size\": 13,\n",
    "    \"legend.fontsize\": 13,               # Make the legend/label fonts a little smaller\n",
    "    \"xtick.labelsize\": 13,\n",
    "    \"ytick.labelsize\": 13,\n",
    "#     \"figure.figsize\": figsize(0.9),     # default fig size of 0.9 textwidth\n",
    "    \"pgf.preamble\": [\n",
    "        r\"\\usepackage[utf8x]{inputenc}\",    # use utf8 fonts becasue your computer can handle it :)\n",
    "        r\"\\usepackage[T1]{fontenc}\",        # plots will be generated using this preamble\n",
    "        ]\n",
    "    }\n",
    "mpl.rcParams.update(pgf_with_latex)\n",
    "import texfig \n",
    "import matplotlib.pyplot as plt\n",
    "import peakutils as pk\n",
    "import edoxrd as xrd\n",
    "%matplotlib inline"
   ]
  },
  {
   "cell_type": "code",
   "execution_count": 40,
   "metadata": {
    "collapsed": true
   },
   "outputs": [],
   "source": [
    "data_dir = '/users/zatterin/Documents/data/XRD/'\n",
    "img_dir ='/users/zatterin/Documents/report/img/'"
   ]
  },
  {
   "cell_type": "code",
   "execution_count": 41,
   "metadata": {},
   "outputs": [
    {
     "name": "stdout",
     "output_type": "stream",
     "text": [
      "e16006 e16014 e16018 e16019 e16020 e16020E e16037 e16043 e16046 e16048 e16050 e16051 e16052 e16054 e16056 e16061 e16065 e16088 e16089 e16090 e16095 e16109 e16111 e16122 e17001 e17002 e17004\n"
     ]
    }
   ],
   "source": [
    "tot_samples = !ls {data_dir} | grep e1\n",
    "for sample in tot_samples: print(sample),"
   ]
  },
  {
   "cell_type": "code",
   "execution_count": 42,
   "metadata": {
    "collapsed": true
   },
   "outputs": [],
   "source": [
    "sample_list = ['e17002','e16019','e16014','e16089','e16018','e16088','e16020','e16095'] # t ordered\n",
    "# sample_list = ['e17002','e16014','e16088','e16095']"
   ]
  },
  {
   "cell_type": "code",
   "execution_count": 51,
   "metadata": {
    "scrolled": true
   },
   "outputs": [
    {
     "data": {
      "image/png": "[encoded data removed]",
      "text/plain": [
       "<matplotlib.figure.Figure at 0x7f81a276b790>"
      ]
     },
     "metadata": {},
     "output_type": "display_data"
    }
   ],
   "source": [
    "theta_peaks = []\n",
    "sub_theta =[]\n",
    "film_theta =[]\n",
    "sample_thickness = [9.8,15.3,29.3,47.5,61,82,106.5,196] # manual input from excel file\n",
    "# sample_thickness = [9.8,29.3,82,106.4]\n",
    "fig = plt.figure(figsize=(4,3))\n",
    "for index, sample_name in enumerate(sample_list):\n",
    "    temp = !ls {data_dir + sample_name} | grep ras | grep '002' | grep t2t\n",
    "    if len(temp) != 1:\n",
    "        scan = temp[1]\n",
    "    else:\n",
    "        scan = temp[0]\n",
    "    \n",
    "    theta, I = xrd.read_data(scan,data_dir+sample_name+'/')\n",
    "#     plt.subplot(121)\n",
    "#     plt.plot(theta, I*(10**(int(index))),label=str(sample_thickness[index])+ ' nm');plt.yscale('log')\n",
    "#     plt.xlabel(r'$2\\theta (^{\\circ})$')\n",
    "#     plt.ylabel('Int (a.u.)')\n",
    "#     plt.legend()\n",
    "    # peak positions\n",
    "    idxs = pk.indexes(I, thres=1e-4, min_dist=1) # idexes of peaks\n",
    "    sub_peak = I[idxs].argsort()[::-1][0] # index of sub peak\n",
    "    film_peak = I[idxs].argsort()[::-1][1] # index of film peak\n",
    "    theta_film = theta[idxs[film_peak]] # theta of film peak\n",
    "    theta_sub = theta[idxs[sub_peak]] # theta of sub peak\n",
    "    delta_theta = theta_film - theta_sub # diff between the above\n",
    "    theta_peaks.append(delta_theta)\n",
    "    sub_theta.append(theta_sub)\n",
    "    film_theta.append(theta_film)\n",
    "    \n",
    "# plt.subplot(122)\n",
    "# plt.plot(sample_thickness,sub_theta/max(sub_theta),'-o');\n",
    "# plt.plot(sample_thickness, film_theta/max(film_theta),'-o')\n",
    "plt.plot(sample_thickness,theta_peaks,'--o')\n",
    "plt.xlabel('Thickness [nm]')\n",
    "plt.ylabel(r'$\\Delta\\theta = \\theta_{film}-\\theta_{sub}$')\n",
    "plt.savefig(img_dir+'peak_thickness.pdf',bbox_inches='tight')\n",
    "plt.show()"
   ]
  },
  {
   "cell_type": "code",
   "execution_count": 26,
   "metadata": {},
   "outputs": [
    {
     "name": "stdout",
     "output_type": "stream",
     "text": [
      "Horizontal alignment will be ignored as no 'x tick label text width' has been passed in the 'extra' parameter\n",
      "Horizontal alignment will be ignored as no 'y tick label text width' has been passed in the 'extra' parameter\n",
      "=========================================================\n",
      "Please add the following lines to your LaTeX preamble:\n",
      "\n",
      "\\usepackage[utf8]{inputenc}\n",
      "\\usepackage{fontspec} % This line only for XeLaTeX and LuaLaTeX\n",
      "\\usepackage{pgfplots}\n",
      "=========================================================\n"
     ]
    }
   ],
   "source": [
    "from matplotlib2tikz import save as tikz_save\n",
    "fig\n",
    "tikz_save(img_dir+'test3.tex',figure=fig,figurewidth='0.6\\\\textwidth', textsize=1.0, tex_relative_path_to_data='./img/')"
   ]
  },
  {
   "cell_type": "code",
   "execution_count": 7,
   "metadata": {
    "collapsed": true
   },
   "outputs": [],
   "source": [
    "import matplotlib2tikz as tt"
   ]
  },
  {
   "cell_type": "code",
   "execution_count": 8,
   "metadata": {
    "collapsed": true
   },
   "outputs": [],
   "source": [
    "tt.get_tikz_code?"
   ]
  }
 ],
 "metadata": {
  "kernelspec": {
   "display_name": "Python 3",
   "language": "python",
   "name": "python3"
  },
  "language_info": {
   "codemirror_mode": {
    "name": "ipython",
    "version": 3
   },
   "file_extension": ".py",
   "mimetype": "text/x-python",
   "name": "python",
   "nbconvert_exporter": "python",
   "pygments_lexer": "ipython3",
   "version": "3.4.2"
  }
 },
 "nbformat": 4,
 "nbformat_minor": 1
}
