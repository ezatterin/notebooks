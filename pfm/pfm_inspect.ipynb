{
 "cells": [
  {
   "cell_type": "code",
   "execution_count": 1,
   "metadata": {},
   "outputs": [],
   "source": [
    "import pySPM\n",
    "import numpy as np\n",
    "import matplotlib\n",
    "import matplotlib.pyplot as plt\n",
    "import matplotlib.font_manager as fm\n",
    "\n",
    "from ipywidgets import interact\n",
    "from mpl_toolkits.axes_grid1 import make_axes_locatable, Grid, ImageGrid\n",
    "from mpl_toolkits.axes_grid1.anchored_artists import AnchoredSizeBar\n",
    "\n",
    "matplotlib.rcParams['text.usetex'] = True\n",
    "matplotlib.rcParams['text.latex.unicode'] = True"
   ]
  },
  {
   "cell_type": "code",
   "execution_count": 2,
   "metadata": {},
   "outputs": [],
   "source": [
    "def plot_pfm(i=0):\n",
    "    f = pySPM.Bruker(filelist[i])\n",
    "    va = f.get_channel(channel='Amplitude1',backward=True)\n",
    "    la = f.get_channel(channel='Amplitude2',backward=True)\n",
    "    vp = f.get_channel(channel='Phase1',backward=True)\n",
    "    lp = f.get_channel(channel='Phase2',backward=True)\n",
    "    ls = [va, la, vp, lp]\n",
    "    titles = ['Vertical Amplitude','Lateral Amplitude', 'Vertical Phase', 'Lateral Phase']\n",
    "    \n",
    "    drivenum = float(f.scanners[0][b'@2:CantDriveContactMode'][0].decode(\"utf-8\")[21:29])\n",
    "    driveunit = f.scanners[0][b'@2:CantDriveContactMode'][0].decode(\"utf-8\")[30:]\n",
    "    \n",
    "    freqnum = float(f.scanners[0][b'@2:CantFrequencyContactMode'][0].decode(\"utf-8\")[25:33])\n",
    "    frequnit = f.scanners[0][b'@2:CantFrequencyContactMode'][0].decode(\"utf-8\")[34:]\n",
    "\n",
    "    phasenum = float(f.scanners[0][b'@2:CantPhaseContactMode'][0].decode(\"latin1\")[28:30])\n",
    "    phaseunit = f.scanners[0][b'@2:CantPhaseContactMode'][0].decode(\"latin1\")[30:]\n",
    "\n",
    "    deflnum = float(f.scanners[0][b'@2:AFMSetDeflection'][0].decode(\"utf-8\")[40:49])\n",
    "    deflunit = f.scanners[0][b'@2:AFMSetDeflection'][0].decode(\"utf-8\")[49:]\n",
    "    \n",
    "    fdict = dict(verticalalignment='bottom', size='x-large')\n",
    "    \n",
    "    xsize = la.size['real']['x']\n",
    "    ysize = la.size['real']['y']\n",
    "    \n",
    "    fig = plt.figure(figsize=(7,7),dpi=100)\n",
    "    grid = ImageGrid(fig, 111,\n",
    "                nrows_ncols=(2,2),\n",
    "                axes_pad = 0.1,\n",
    "                label_mode='L')\n",
    "    \n",
    "    fontprops = fm.FontProperties(size=11)\n",
    "    scalebarlabel = '{0} {1}'.format(xsize/5, la.size['real']['unit']) \n",
    "    scalebar = AnchoredSizeBar(grid[0].transData, xsize/5, scalebarlabel, 'lower right', \n",
    "                               color='white', frameon=False, size_vertical=xsize/500, pad=0.5,\n",
    "                               sep=5, fontproperties=fontprops)\n",
    "    \n",
    "    grid[0].add_artist(scalebar)\n",
    "    grid[0].set_ylabel('Amplitude', fdict)\n",
    "    grid[0].set_title('Vertical', fdict)\n",
    "    grid[1].set_title('Lateral', fdict)\n",
    "    grid[2].set_ylabel('Phase', fdict)\n",
    "    \n",
    "    for axis, img, title in zip(grid, ls, titles):\n",
    "        \n",
    "        # plot the image\n",
    "        imgplot = np.flipud(img.pixels)\n",
    "        im = axis.imshow(imgplot,cmap='afmhot',vmax=imgplot.max()+imgplot.mean()/2, \n",
    "                         interpolation='bilinear', extent=[0, xsize, 0, ysize])\n",
    "        \n",
    "        # get rid of numbers\n",
    "        plt.setp(axis.get_xticklabels(), visible=False)\n",
    "        plt.setp(axis.get_yticklabels(), visible=False)\n",
    "        # get rid of ticks\n",
    "        axis.tick_params(axis='both', which='both',length=0)\n",
    "\n",
    "#         axis.axis('off')\n",
    "        \n",
    "#         axis.set_title(title, fdict)\n",
    "        \n",
    "#         divider = make_axes_locatable(axis)\n",
    "#         cax = divider.append_axes('right', size='5%', pad=0.05)\n",
    "#         cbar = plt.colorbar(im, cax=cax)\n",
    "#         cbar.set_label(img.zscale, labelpad=0.1)\n",
    "        \n",
    "#         axis.set_xlabel('x [nm]')\n",
    "#         axis.set_ylabel('y [nm]')\n",
    "        \n",
    "#         ymin, ymax, = axis.get_ylim()\n",
    "#         xmin, xmax = axis.get_xlim()\n",
    "#         axis.set_yticks(np.round(np.linspace(ymin, ymax, 2), 2))\n",
    "#         axis.set_xticks(np.round(np.linspace(xmin, xmax, 2), 2))\n",
    "\n",
    "    plt.gcf().text(0.5, 0.08,r'\\textbf{{Setpoint}}={0} {1} | \\textbf{{Drive}}={2} {3} | \\textbf{{Freq.}}={4} {5} | \\textbf{{Phase}}={6} {7}'.format(\n",
    "                                                                                              deflnum, deflunit,\n",
    "                                                                                              drivenum, driveunit,\n",
    "                                                                                              freqnum, frequnit, \n",
    "                                                                                              phasenum, phaseunit), \n",
    "                   size=10, weight='normal', va='bottom', ha='center', bbox=dict(boxstyle=\"round\", facecolor='orange', alpha=0.1))\n",
    "#     plt.tight_layout()\n",
    "    plt.show()"
   ]
  },
  {
   "cell_type": "code",
   "execution_count": 3,
   "metadata": {},
   "outputs": [
    {
     "name": "stdout",
     "output_type": "stream",
     "text": [
      "\u001b[0m\u001b[34me16014\u001b[0m/  \u001b[34me16019\u001b[0m/  \u001b[34me16050\u001b[0m/  \u001b[34me16065\u001b[0m/  \u001b[34me16089\u001b[0m/  \u001b[34me17049\u001b[0m/  \u001b[34me17089\u001b[0m/  \u001b[34me18015\u001b[0m/\r\n",
      "\u001b[34me16018\u001b[0m/  \u001b[34me16020\u001b[0m/  \u001b[34me16056\u001b[0m/  \u001b[34me16088\u001b[0m/  \u001b[34me16095\u001b[0m/  \u001b[34me17087\u001b[0m/  \u001b[34me17090\u001b[0m/\r\n"
     ]
    }
   ],
   "source": [
    "afmdir = '/users/zatterin/Documents/data/AFM/kto_pto/'\n",
    "%ls {afmdir}"
   ]
  },
  {
   "cell_type": "code",
   "execution_count": 4,
   "metadata": {},
   "outputs": [
    {
     "name": "stdout",
     "output_type": "stream",
     "text": [
      "0...03.05/\n",
      "1...06.05/\n",
      "2...07.09/\n",
      "3...09.05/\n",
      "4...11.11/\n",
      "5...NsThumbnails.bin/\n"
     ]
    }
   ],
   "source": [
    "sample = 'e16020/'\n",
    "datefolders = !ls {afmdir+sample}\n",
    "for index, date in enumerate(datefolders): print('{0}...{1}/'.format(index, date)) "
   ]
  },
  {
   "cell_type": "code",
   "execution_count": 5,
   "metadata": {},
   "outputs": [
    {
     "name": "stdout",
     "output_type": "stream",
     "text": [
      "\u001b[0m\u001b[00m05061922.001\u001b[0m  \u001b[00me16020E.004\u001b[0m  \u001b[00me16020E.008\u001b[0m  \u001b[00me16020E.011\u001b[0m  \u001b[34mpng\u001b[0m/\r\n",
      "\u001b[00me16020E.001\u001b[0m   \u001b[00me16020E.006\u001b[0m  \u001b[00me16020E.009\u001b[0m  \u001b[00me16020E.012\u001b[0m\r\n",
      "\u001b[00me16020E.002\u001b[0m   \u001b[00me16020E.007\u001b[0m  \u001b[00me16020E.010\u001b[0m  \u001b[00me16020E.013\u001b[0m\r\n"
     ]
    }
   ],
   "source": [
    "i = 1\n",
    "filedir = afmdir+sample+datefolders[i]+'/'\n",
    "%ls {filedir}"
   ]
  },
  {
   "cell_type": "code",
   "execution_count": 47,
   "metadata": {},
   "outputs": [],
   "source": [
    "filelist = !ls {filedir} | grep '0'\n",
    "for index in range(len(filelist)): \n",
    "    filelist[index] = filedir+filelist[index]"
   ]
  },
  {
   "cell_type": "code",
   "execution_count": 27,
   "metadata": {
    "collapsed": true
   },
   "outputs": [
    {
     "data": {
      "application/vnd.jupyter.widget-view+json": {
       "model_id": "1394d1e7a7dd4e95879d2713d8f3d7bc",
       "version_major": 2,
       "version_minor": 0
      },
      "text/html": [
       "<p>Failed to display Jupyter Widget of type <code>interactive</code>.</p>\n",
       "<p>\n",
       "  If you're reading this message in the Jupyter Notebook or JupyterLab Notebook, it may mean\n",
       "  that the widgets JavaScript is still loading. If this message persists, it\n",
       "  likely means that the widgets JavaScript library is either not installed or\n",
       "  not enabled. See the <a href=\"https://ipywidgets.readthedocs.io/en/stable/user_install.html\">Jupyter\n",
       "  Widgets Documentation</a> for setup instructions.\n",
       "</p>\n",
       "<p>\n",
       "  If you're reading this message in another frontend (for example, a static\n",
       "  rendering on GitHub or <a href=\"https://nbviewer.jupyter.org/\">NBViewer</a>),\n",
       "  it may mean that your frontend doesn't currently support widgets.\n",
       "</p>\n"
      ],
      "text/plain": [
       "interactive(children=(IntSlider(value=2, description='i', max=24, min=2), Output()), _dom_classes=('widget-interact',))"
      ]
     },
     "metadata": {},
     "output_type": "display_data"
    }
   ],
   "source": [
    "interact(plot_pfm, i=(2, len(filelist)-1, 1));"
   ]
  },
  {
   "cell_type": "markdown",
   "metadata": {},
   "source": [
    "## The old way"
   ]
  },
  {
   "cell_type": "code",
   "execution_count": 6,
   "metadata": {
    "scrolled": true
   },
   "outputs": [
    {
     "name": "stdout",
     "output_type": "stream",
     "text": [
      "0...03.05/\n",
      "1...06.05/\n",
      "2...07.09/\n",
      "3...09.05/\n",
      "4...11.11/\n",
      "5...NsThumbnails.bin/\n"
     ]
    }
   ],
   "source": [
    "sample = 'e16020/'\n",
    "datefolders = !ls {afmdir+sample}\n",
    "for index, date in enumerate(datefolders): print('{0}...{1}/'.format(index, date)) "
   ]
  },
  {
   "cell_type": "code",
   "execution_count": 7,
   "metadata": {},
   "outputs": [
    {
     "name": "stdout",
     "output_type": "stream",
     "text": [
      "\u001b[0m\u001b[00me16020E.014\u001b[0m  \u001b[00me16020E.019\u001b[0m  \u001b[00me16020E.024\u001b[0m  \u001b[00me16020E.029\u001b[0m       \u001b[31mpfm_09.05.16.pptx\u001b[0m\r\n",
      "\u001b[00me16020E.015\u001b[0m  \u001b[00me16020E.020\u001b[0m  \u001b[00me16020E.025\u001b[0m  \u001b[00me16020E.030\u001b[0m       \u001b[34mpng\u001b[0m/\r\n",
      "\u001b[00me16020E.016\u001b[0m  \u001b[00me16020E.021\u001b[0m  \u001b[00me16020E.026\u001b[0m  \u001b[00me16020E.031\u001b[0m\r\n",
      "\u001b[00me16020E.017\u001b[0m  \u001b[00me16020E.022\u001b[0m  \u001b[00me16020E.027\u001b[0m  \u001b[00me16020E.032\u001b[0m\r\n",
      "\u001b[00me16020E.018\u001b[0m  \u001b[00me16020E.023\u001b[0m  \u001b[00me16020E.028\u001b[0m  \u001b[33mpfm_09.05.16.pdf\u001b[0m\r\n"
     ]
    }
   ],
   "source": [
    "i = 3\n",
    "filedir = afmdir+sample+datefolders[i]+'/'\n",
    "%ls {filedir}"
   ]
  },
  {
   "cell_type": "code",
   "execution_count": 8,
   "metadata": {},
   "outputs": [],
   "source": [
    "filelist = !ls {filedir} | grep '0'\n",
    "for index in range(len(filelist)): \n",
    "    filelist[index] = filedir+filelist[index]"
   ]
  },
  {
   "cell_type": "code",
   "execution_count": 24,
   "metadata": {},
   "outputs": [
    {
     "data": {
      "application/vnd.jupyter.widget-view+json": {
       "model_id": "bbc1c676bb924e138fcca3866aeea2f0",
       "version_major": 2,
       "version_minor": 0
      },
      "text/html": [
       "<p>Failed to display Jupyter Widget of type <code>interactive</code>.</p>\n",
       "<p>\n",
       "  If you're reading this message in the Jupyter Notebook or JupyterLab Notebook, it may mean\n",
       "  that the widgets JavaScript is still loading. If this message persists, it\n",
       "  likely means that the widgets JavaScript library is either not installed or\n",
       "  not enabled. See the <a href=\"https://ipywidgets.readthedocs.io/en/stable/user_install.html\">Jupyter\n",
       "  Widgets Documentation</a> for setup instructions.\n",
       "</p>\n",
       "<p>\n",
       "  If you're reading this message in another frontend (for example, a static\n",
       "  rendering on GitHub or <a href=\"https://nbviewer.jupyter.org/\">NBViewer</a>),\n",
       "  it may mean that your frontend doesn't currently support widgets.\n",
       "</p>\n"
      ],
      "text/plain": [
       "interactive(children=(IntSlider(value=0, description='i', max=20), Output()), _dom_classes=('widget-interact',))"
      ]
     },
     "metadata": {},
     "output_type": "display_data"
    }
   ],
   "source": [
    "@interact(i=(0, len(filelist)-1, 1))\n",
    "def plot_pfm_old(i=0):\n",
    "    f = pySPM.Bruker(filelist[i])\n",
    "    a = f.get_channel(channel='Amplitude1',backward=True)\n",
    "    p = f.get_channel(channel='Phase1',backward=True)\n",
    "    ls = [a, p]\n",
    "    \n",
    "    xsize = a.size['real']['x']\n",
    "    ysize = a.size['real']['y']\n",
    "    \n",
    "    fdict = dict(verticalalignment='bottom', size='x-large')\n",
    "        \n",
    "    fig = plt.figure(figsize=(7,7),dpi=100)\n",
    "    grid = ImageGrid(fig, 111,\n",
    "                nrows_ncols=(1,2),\n",
    "                axes_pad = 0.1,\n",
    "                label_mode='L')\n",
    "    \n",
    "    fontprops = fm.FontProperties(size=11)\n",
    "    scalebarlabel = '{0} {1}'.format(np.round(xsize/5, decimals=1), a.size['real']['unit']) \n",
    "    scalebar = AnchoredSizeBar(grid[0].transData, xsize/5, scalebarlabel, 'lower right', \n",
    "                               color='white', frameon=False, size_vertical=xsize/500, pad=0.5,\n",
    "                               sep=5, fontproperties=fontprops)\n",
    "    \n",
    "    grid[0].add_artist(scalebar)\n",
    "    grid[0].set_title('Amplitude', fdict)\n",
    "    grid[1].set_title('Phase', fdict)\n",
    "    \n",
    "    for axis, img in zip(grid, ls):\n",
    "    \n",
    "        # plot the image\n",
    "        imgplot = np.flipud(img.pixels)\n",
    "        im = axis.imshow(imgplot,cmap='afmhot',vmax=imgplot.max()+imgplot.mean()/2, \n",
    "                         interpolation='bilinear', extent=[0, xsize, 0, ysize])\n",
    "\n",
    "        # get rid of numbers\n",
    "        plt.setp(axis.get_xticklabels(), visible=False)\n",
    "        plt.setp(axis.get_yticklabels(), visible=False)\n",
    "        # get rid of ticks\n",
    "        axis.tick_params(axis='both', which='both',length=0)"
   ]
  },
  {
   "cell_type": "code",
   "execution_count": null,
   "metadata": {},
   "outputs": [],
   "source": []
  }
 ],
 "metadata": {
  "kernelspec": {
   "display_name": "Python 3",
   "language": "python",
   "name": "python3"
  },
  "language_info": {
   "codemirror_mode": {
    "name": "ipython",
    "version": 3
   },
   "file_extension": ".py",
   "mimetype": "text/x-python",
   "name": "python",
   "nbconvert_exporter": "python",
   "pygments_lexer": "ipython3",
   "version": "3.5.3"
  }
 },
 "nbformat": 4,
 "nbformat_minor": 2
}
