{
 "cells": [
  {
   "cell_type": "code",
   "execution_count": 1,
   "metadata": {
    "collapsed": true
   },
   "outputs": [],
   "source": [
    "import numpy as np\n",
    "from matplotlib import pyplot as plt\n",
    "from matplotlib.widgets import Slider\n",
    "%matplotlib qt"
   ]
  },
  {
   "cell_type": "markdown",
   "metadata": {},
   "source": [
    "Just a function:"
   ]
  },
  {
   "cell_type": "code",
   "execution_count": null,
   "metadata": {
    "collapsed": true
   },
   "outputs": [],
   "source": [
    "def supershape_radius(phi, a, b, m, n1, n2, n3):\n",
    "    theta = .25 * m * phi\n",
    "    cos = np.fabs(np.cos(theta) / a) ** n2\n",
    "    sin = np.fabs(np.sin(theta) / b) ** n3\n",
    "    r = (cos + sin) ** (-1. / n1)\n",
    "    r /= np.max(r)\n",
    "    return r"
   ]
  },
  {
   "cell_type": "markdown",
   "metadata": {},
   "source": [
    "Initial values for the parameters used to compute the SuperShape curve:"
   ]
  },
  {
   "cell_type": "code",
   "execution_count": null,
   "metadata": {
    "collapsed": true
   },
   "outputs": [],
   "source": [
    "phi = np.linspace(0, 2 * np.pi, 1024)\n",
    "m_init = 3\n",
    "n1_init = 2\n",
    "n2_init = 18\n",
    "n3_init = 18"
   ]
  },
  {
   "cell_type": "markdown",
   "metadata": {},
   "source": [
    "Define the plot and place the sliders:"
   ]
  },
  {
   "cell_type": "code",
   "execution_count": null,
   "metadata": {
    "collapsed": true
   },
   "outputs": [],
   "source": [
    "fig = plt.figure()\n",
    "ax = fig.add_subplot(111, polar=True)\n",
    "\n",
    "\n",
    "ax_m = plt.axes([0.05, 0.05, 0.25, 0.025])\n",
    "ax_n1 = plt.axes([0.05, 0.10, 0.25, 0.025])\n",
    "ax_n2 = plt.axes([0.7, 0.05, 0.25, 0.025])\n",
    "ax_n3 = plt.axes([0.7, 0.10, 0.25, 0.025])\n",
    "\n",
    "slider_m = Slider(ax_m, 'm', 1, 20, valinit=m_init)\n",
    "slider_n1 = Slider(ax_n1, 'n1', .1, 10, valinit=n1_init)\n",
    "slider_n2 = Slider(ax_n2, 'n2', .1, 20, valinit=n2_init)\n",
    "slider_n3 = Slider(ax_n3, 'n3', .1, 20, valinit=n3_init)"
   ]
  },
  {
   "cell_type": "markdown",
   "metadata": {},
   "source": [
    "Compute the curve and render it:"
   ]
  },
  {
   "cell_type": "code",
   "execution_count": null,
   "metadata": {
    "collapsed": true
   },
   "outputs": [],
   "source": [
    "r = supershape_radius(phi, 1, 1, m_init, n1_init, n2_init, n3_init)\n",
    "lines, = ax.plot(phi, r, lw = 3.)"
   ]
  },
  {
   "cell_type": "markdown",
   "metadata": {},
   "source": [
    "Specify what to do when slider is updated by user:"
   ]
  },
  {
   "cell_type": "code",
   "execution_count": null,
   "metadata": {
    "collapsed": true
   },
   "outputs": [],
   "source": [
    "def update(val):\n",
    "    r = supershape_radius(phi, 1, 1, np.floor(slider_m.val), slider_n1.val, slider_n2.val, slider_n3.val)\n",
    "    lines.set_ydata(r) # updates Y array in the line obj\n",
    "    fig.canvas.draw_idle() # boh\n",
    "    \n",
    "slider_n1.on_changed(update) # when slider value is changed, call *update* (the func) with the new slider pos.\n",
    "slider_n2.on_changed(update)\n",
    "slider_n3.on_changed(update)\n",
    "slider_m.on_changed(update)"
   ]
  },
  {
   "cell_type": "code",
   "execution_count": null,
   "metadata": {
    "collapsed": true
   },
   "outputs": [],
   "source": [
    "plt.show()"
   ]
  }
 ],
 "metadata": {
  "kernelspec": {
   "display_name": "Python 2",
   "language": "python",
   "name": "python2"
  },
  "language_info": {
   "codemirror_mode": {
    "name": "ipython",
    "version": 2
   },
   "file_extension": ".py",
   "mimetype": "text/x-python",
   "name": "python",
   "nbconvert_exporter": "python",
   "pygments_lexer": "ipython2",
   "version": "2.7.9"
  }
 },
 "nbformat": 4,
 "nbformat_minor": 2
}
