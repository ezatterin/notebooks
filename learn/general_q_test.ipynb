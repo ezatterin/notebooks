{
 "cells": [
  {
   "cell_type": "code",
   "execution_count": 1,
   "metadata": {
    "collapsed": true,
    "deletable": true,
    "editable": true
   },
   "outputs": [],
   "source": [
    "import edoxrd as xrd\n",
    "import peakutils as pk\n",
    "import numpy as np\n",
    "import matplotlib.pyplot as plt\n",
    "\n",
    "from ipywidgets import interact, fixed\n",
    "from imp import reload\n",
    "\n",
    "%matplotlib inline "
   ]
  },
  {
   "cell_type": "code",
   "execution_count": 2,
   "metadata": {
    "collapsed": false,
    "deletable": true,
    "editable": true
   },
   "outputs": [
    {
     "name": "stdout",
     "output_type": "stream",
     "text": [
      "0...e18015_001_t2t.ras\n",
      "1...e18015_002_t2t.ras\n"
     ]
    }
   ],
   "source": [
    "d = \"/users/zatterin/Documents/data/XRD/2018/e18015/\"\n",
    "files = !ls {d} | grep ras | grep t2t\n",
    "for index, fname in enumerate(files): print('{0}...{1}'.format(index,fname))"
   ]
  },
  {
   "cell_type": "code",
   "execution_count": 3,
   "metadata": {},
   "outputs": [
    {
     "data": {
      "image/png": "[encoded data removed]",
      "text/plain": [
       "<Figure size 432x288 with 1 Axes>"
      ]
     },
     "metadata": {},
     "output_type": "display_data"
    }
   ],
   "source": [
    "tt, i = xrd.read_data(d+files[0])\n",
    "\n",
    "plt.plot(tt,i)\n",
    "plt.yscale('log')"
   ]
  },
  {
   "cell_type": "code",
   "execution_count": 4,
   "metadata": {
    "collapsed": false,
    "deletable": true,
    "editable": true
   },
   "outputs": [],
   "source": [
    "# Def a str fac eqn that accepts any q orientation... TO IMPROVE\n",
    "def calc_str_fac(material, ttheta):\n",
    "\n",
    "    # Initialise\n",
    "    mat_param, mat_pos = xrd.mat_dict()\n",
    "    q = xrd.tt2q(ttheta)\n",
    "\n",
    "    # components if q111\n",
    "    qx = q/np.sqrt(3)\n",
    "    qy = q/np.sqrt(3)\n",
    "    qz = q/np.sqrt(3)\n",
    "\n",
    "    f = xrd.asf(q)\n",
    "\n",
    "    ls = dict(\n",
    "        STO = (['Sr', 'Ti'] + ['O']*3),\n",
    "        PTO = (['Pb', 'Ti'] + ['O']*3),\n",
    "        MTO = (['Mn', 'Ti'] + ['O']*3),\n",
    "        SRO = (['Sr', 'Ti'] + ['O']*3),\n",
    "        KTO = (['K', 'Ta'] + ['O']*3),\n",
    "        DSO = (['Dy', 'Sc'] + ['O']*3)\n",
    "            )\n",
    "\n",
    "    if material == 'SRO_b' or material == 'SRO_t':\n",
    "        atom_list = ls['SRO']\n",
    "    else:\n",
    "        atom_list = ls[material]\n",
    "\n",
    "    F = 0\n",
    "    for i, atom in enumerate(atom_list):\n",
    "        F += f[atom] * np.exp(1j * ( qx * mat_pos[material][i,0]*mat_param[material][0] \\\n",
    "                                 +  qy * mat_pos[material][i,1]*mat_param[material][1] \\\n",
    "                                 +  qz * mat_pos[material][i,2]*mat_param[material][2]))\n",
    "\n",
    "    return F"
   ]
  },
  {
   "cell_type": "markdown",
   "metadata": {
    "deletable": true,
    "editable": true
   },
   "source": [
    "Check that this Str Fac is different from the one that assumes a q001:"
   ]
  },
  {
   "cell_type": "code",
   "execution_count": 7,
   "metadata": {
    "collapsed": false,
    "deletable": true,
    "editable": true
   },
   "outputs": [
    {
     "name": "stderr",
     "output_type": "stream",
     "text": [
      "/users/zatterin/Envs/py3/lib/python3.5/site-packages/numpy/core/numeric.py:492: ComplexWarning: Casting complex values to real discards the imaginary part\n",
      "  return array(a, dtype, copy=False, order=order)\n"
     ]
    },
    {
     "data": {
      "text/plain": [
       "[<matplotlib.lines.Line2D at 0x7fbf7896fef0>]"
      ]
     },
     "execution_count": 7,
     "metadata": {},
     "output_type": "execute_result"
    },
    {
     "data": {
      "image/png": "[encoded data removed]",
      "text/plain": [
       "<Figure size 432x288 with 1 Axes>"
      ]
     },
     "metadata": {},
     "output_type": "display_data"
    }
   ],
   "source": [
    "ttheta = np.linspace(0,90,1000)\n",
    "x = xrd.tt2q(tt)\n",
    "\n",
    "plt.plot(tt, xrd.calc_str_fac('PTO',tt)) # 001\n",
    "plt.plot(tt, calc_str_fac('PTO',tt)) # 111"
   ]
  },
  {
   "cell_type": "code",
   "execution_count": 12,
   "metadata": {},
   "outputs": [
    {
     "ename": "KeyError",
     "evalue": "'PTO'",
     "output_type": "error",
     "traceback": [
      "\u001b[0;31m---------------------------------------------------------------------------\u001b[0m",
      "\u001b[0;31mKeyError\u001b[0m                                  Traceback (most recent call last)",
      "\u001b[0;32m<ipython-input-12-01c027b01bd1>\u001b[0m in \u001b[0;36m<module>\u001b[0;34m()\u001b[0m\n\u001b[1;32m     20\u001b[0m \u001b[0mF\u001b[0m \u001b[0;34m=\u001b[0m \u001b[0;36m0\u001b[0m\u001b[0;34m\u001b[0m\u001b[0m\n\u001b[1;32m     21\u001b[0m \u001b[0;32mfor\u001b[0m \u001b[0mi\u001b[0m\u001b[0;34m,\u001b[0m \u001b[0matom\u001b[0m \u001b[0;32min\u001b[0m \u001b[0menumerate\u001b[0m\u001b[0;34m(\u001b[0m\u001b[0matom_list\u001b[0m\u001b[0;34m)\u001b[0m\u001b[0;34m:\u001b[0m\u001b[0;34m\u001b[0m\u001b[0m\n\u001b[0;32m---> 22\u001b[0;31m     \u001b[0mF\u001b[0m \u001b[0;34m+=\u001b[0m \u001b[0mf\u001b[0m\u001b[0;34m[\u001b[0m\u001b[0matom\u001b[0m\u001b[0;34m]\u001b[0m \u001b[0;34m*\u001b[0m \u001b[0mnp\u001b[0m\u001b[0;34m.\u001b[0m\u001b[0mexp\u001b[0m\u001b[0;34m(\u001b[0m\u001b[0;36m1j\u001b[0m \u001b[0;34m*\u001b[0m \u001b[0;34m(\u001b[0m \u001b[0mq\u001b[0m \u001b[0;34m*\u001b[0m \u001b[0mmat_pos\u001b[0m\u001b[0;34m[\u001b[0m\u001b[0mmaterial\u001b[0m\u001b[0;34m]\u001b[0m\u001b[0;34m[\u001b[0m\u001b[0mi\u001b[0m\u001b[0;34m,\u001b[0m\u001b[0;36m2\u001b[0m\u001b[0;34m]\u001b[0m\u001b[0;34m*\u001b[0m\u001b[0mmat_param\u001b[0m\u001b[0;34m[\u001b[0m\u001b[0mmaterial\u001b[0m\u001b[0;34m]\u001b[0m\u001b[0;34m[\u001b[0m\u001b[0;36m2\u001b[0m\u001b[0;34m]\u001b[0m\u001b[0;34m)\u001b[0m\u001b[0;34m)\u001b[0m\u001b[0;34m\u001b[0m\u001b[0m\n\u001b[0m",
      "\u001b[0;31mKeyError\u001b[0m: 'PTO'"
     ]
    }
   ],
   "source": [
    "# Initialise\n",
    "mat_param, mat_pos = mat_dict()\n",
    "q = tt2q(ttheta)\n",
    "f = asf(q)\n",
    "\n",
    "ls = dict(\n",
    "    STO = (['Sr', 'Ti'] + ['O']*3),\n",
    "    PTO = (['Pb', 'Ti'] + ['O']*3),\n",
    "    MTO = (['Mn', 'Ti'] + ['O']*3),\n",
    "    SRO = (['Sr', 'Ti'] + ['O']*3),\n",
    "    KTO = (['K', 'Ta']  + ['O']*3),\n",
    "    DSO = (['Dy', 'Sc'] + ['O']*3)\n",
    "        )\n",
    "\n",
    "if material == 'SRO_b' or material == 'SRO_t':\n",
    "    atom_list = ls['SRO']\n",
    "else:\n",
    "    atom_list = ls[material]\n",
    "\n",
    "F = 0\n",
    "for i, atom in enumerate(atom_list):\n",
    "    F += f[atom] * np.exp(1j * ( q * mat_pos[material][i,2]*mat_param[material][2]))"
   ]
  },
  {
   "cell_type": "markdown",
   "metadata": {
    "deletable": true,
    "editable": true
   },
   "source": [
    "How do you calc the scatt amp for any q? Must you change the lattice fun? (See other .ipynb)"
   ]
  },
  {
   "cell_type": "code",
   "execution_count": 8,
   "metadata": {
    "collapsed": false,
    "deletable": true,
    "editable": true
   },
   "outputs": [
    {
     "ename": "TypeError",
     "evalue": "read_data() got an unexpected keyword argument 'comments'",
     "output_type": "error",
     "traceback": [
      "\u001b[0;31m---------------------------------------------------------------------------\u001b[0m",
      "\u001b[0;31mTypeError\u001b[0m                                 Traceback (most recent call last)",
      "\u001b[0;32m<ipython-input-8-7a5a5be4c79b>\u001b[0m in \u001b[0;36m<module>\u001b[0;34m()\u001b[0m\n\u001b[1;32m     15\u001b[0m \u001b[0;34m\u001b[0m\u001b[0m\n\u001b[1;32m     16\u001b[0m \u001b[0;31m# Read the data\u001b[0m\u001b[0;34m\u001b[0m\u001b[0;34m\u001b[0m\u001b[0m\n\u001b[0;32m---> 17\u001b[0;31m \u001b[0mxdata\u001b[0m\u001b[0;34m,\u001b[0m \u001b[0mydata\u001b[0m \u001b[0;34m=\u001b[0m \u001b[0mxrd\u001b[0m\u001b[0;34m.\u001b[0m\u001b[0mread_data\u001b[0m\u001b[0;34m(\u001b[0m\u001b[0mfname\u001b[0m\u001b[0;34m,\u001b[0m \u001b[0md\u001b[0m\u001b[0;34m,\u001b[0m \u001b[0mcomments\u001b[0m\u001b[0;34m=\u001b[0m\u001b[0mcomm\u001b[0m\u001b[0;34m)\u001b[0m\u001b[0;34m\u001b[0m\u001b[0m\n\u001b[0m\u001b[1;32m     18\u001b[0m \u001b[0mq\u001b[0m \u001b[0;34m=\u001b[0m \u001b[0mxrd\u001b[0m\u001b[0;34m.\u001b[0m\u001b[0mtt2q\u001b[0m\u001b[0;34m(\u001b[0m\u001b[0mxdata\u001b[0m\u001b[0;34m)\u001b[0m\u001b[0;34m\u001b[0m\u001b[0m\n\u001b[1;32m     19\u001b[0m \u001b[0;34m\u001b[0m\u001b[0m\n",
      "\u001b[0;31mTypeError\u001b[0m: read_data() got an unexpected keyword argument 'comments'"
     ]
    }
   ],
   "source": [
    "fname = \"e16123a_01_t2t_001.ras\"\n",
    "comm = '*'\n",
    "sub = 'STO'\n",
    "film = 'PTO'\n",
    "Nsub = 1e4\n",
    "Nfilm = 100\n",
    "c_film = 3.9\n",
    "scale = 1e2\n",
    "\n",
    "# Constants\n",
    "wave = 1.5406\n",
    "mu = 4e4\n",
    "param, pos = xrd.mat_dict()\n",
    "c_sub = param[sub][2]\n",
    "\n",
    "# Read the data\n",
    "xdata, ydata = xrd.read_data(fname, d, comments=comm)\n",
    "q = xrd.tt2q(xdata)\n",
    "\n",
    "# components if q111\n",
    "qx = q/np.sqrt(3)\n",
    "qy = q/np.sqrt(3)\n",
    "qz = q/np.sqrt(3)\n",
    "\n",
    "# Load data\n",
    "mats = [sub,film]#, film]\n",
    "t = (Nsub*c_sub + Nfilm*c_film)\n",
    "\n",
    "# Calc structure factor and build shape function dictionary\n",
    "F = {}\n",
    "for material in mats:\n",
    "    F[material] = calc_str_fac(material, xdata) # does not want q, fix?\n",
    "    S_x = {sub:0, film:0}\n",
    "    S_y = {sub:0, film:0}\n",
    "    S_z = {sub:0, film:0}\n",
    "# Calc shape function for each material\n",
    "for l in range(0, int(Nsub)):\n",
    "    S_x[sub] += np.exp(1j*qx*l*param['STO'][0])*np.exp(-l*4e-4)\n",
    "    S_y[sub] += np.exp(1j*qy*l*param['STO'][1])*np.exp(-l*4e-4)\n",
    "    S_z[sub] += np.exp(1j*qz*l*param['STO'][2])*np.exp(-l*4e-4)\n",
    "#     S_x[sub] += np.exp((t-l*mat_param['STO'][0]) * (1j*qx-(4*np.pi)/(mu*wave*qx)))\n",
    "#     S_y[sub] += np.exp((t-l*mat_param['STO'][1]) * (1j*qy-(4*np.pi)/(mu*wave*qy)))\n",
    "#     S_z[sub] += np.exp((t-l*c_sub) * (1j*qz-(4*np.pi)/(mu*wave*qz)))\n",
    "    \n",
    "for l in range(0, int(Nfilm)):\n",
    "    S_x[film] += np.exp((t - (l*param['PTO'][0] + Nsub*param['STO'][0])) *\n",
    "    (1j*qx - (4*np.pi) / (mu*wave*q)))\n",
    "    S_y[film] += np.exp((t - (l*param['PTO'][1] + Nsub*param['STO'][1])) *\n",
    "    (1j*qy - (4*np.pi) / (mu*wave*q)))\n",
    "    S_z[film] += np.exp((t - (l*c_film + Nsub*c_sub)) *\n",
    "    (1j*qz - (4*np.pi) / (mu*wave*q)))\n",
    "    \n",
    "\n",
    "g = 0\n",
    "for material in mats:\n",
    "    g += F[material]*S_x[material]*S_y[material]*S_z[material]\n",
    "\n",
    "# Normalisation and Intensity\n",
    "g = g / g.max()\n",
    "I = scale * g * np.conj(g)\n",
    "\n",
    "#xdata, I\n",
    "plt.plot(xdata, I)\n",
    "plt.yscale('log')\n",
    "plt.plot(xdata,ydata)"
   ]
  }
 ],
 "metadata": {
  "kernelspec": {
   "display_name": "Python 3",
   "language": "python",
   "name": "python3"
  },
  "language_info": {
   "codemirror_mode": {
    "name": "ipython",
    "version": 3
   },
   "file_extension": ".py",
   "mimetype": "text/x-python",
   "name": "python",
   "nbconvert_exporter": "python",
   "pygments_lexer": "ipython3",
   "version": "3.5.3"
  }
 },
 "nbformat": 4,
 "nbformat_minor": 2
}
