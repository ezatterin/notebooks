{
 "cells": [
  {
   "cell_type": "markdown",
   "metadata": {},
   "source": [
    "# Playing with Fourier transforms\n",
    "\n",
    "Have a look at [this page](http://cns-alumni.bu.edu/~slehar/fourier/fourier.html) for most inspiration regarding this notebook."
   ]
  },
  {
   "cell_type": "code",
   "execution_count": 1,
   "metadata": {
    "collapsed": true
   },
   "outputs": [],
   "source": [
    "import matplotlib.pyplot as plt\n",
    "import numpy as np\n",
    "from ipywidgets import interact\n",
    "%matplotlib inline"
   ]
  },
  {
   "cell_type": "markdown",
   "metadata": {},
   "source": [
    "Generate a 2D brightness image; note that the minimum brightness is 0 and that no negative values are permitted -- the average brightness is always positive."
   ]
  },
  {
   "cell_type": "code",
   "execution_count": 2,
   "metadata": {
    "collapsed": true
   },
   "outputs": [],
   "source": [
    "def make_img(harmonic,points):\n",
    "    tmp = np.linspace(0,2*np.pi,points)\n",
    "    x,xx = np.meshgrid(tmp,tmp)\n",
    "    x = np.sin(x*2*harmonic+np.pi/2)+1\n",
    "    return x"
   ]
  },
  {
   "cell_type": "markdown",
   "metadata": {},
   "source": [
    "Take a look at how the number of points used to compute the sine wave (i.e. the pixels) affects the displayed function. It looks like after about `h=4` the computed wave corresponds to the sum of the one of frequency $1/2h$ plus another of much lower frequency."
   ]
  },
  {
   "cell_type": "code",
   "execution_count": 3,
   "metadata": {},
   "outputs": [
    {
     "data": {
      "application/vnd.jupyter.widget-view+json": {
       "model_id": "e5380637c91641aaa9d2f363ca3ea729"
      }
     },
     "metadata": {},
     "output_type": "display_data"
    }
   ],
   "source": [
    "@interact(h=(1,20),points=(100,1000))\n",
    "def plt_sin(h,points):\n",
    "    tmp = np.linspace(0,2*np.pi,points)\n",
    "    x = np.sin(tmp*2*h)+1\n",
    "    fig = plt.figure(figsize=(12,8))\n",
    "    plt.plot(x)\n",
    "    plt.plot(x,'o')\n",
    "    plt.show()"
   ]
  },
  {
   "cell_type": "markdown",
   "metadata": {},
   "source": [
    "Simulate sampling. Generating sine wave in python corresponds to taking equally spaced points in a $[0,2\\pi]$ interval, computing its sine value, and then drawing straight lines between them. In sampling fitting a function to a set of points on an analog signal corresponds to the sine computation here -- but python does not know the continuous function, it just outputs individual computed points (clear??)."
   ]
  },
  {
   "cell_type": "code",
   "execution_count": 4,
   "metadata": {},
   "outputs": [
    {
     "name": "stdout",
     "output_type": "stream",
     "text": [
      "1.0 -4.57695098089e-18 -1.0\n"
     ]
    },
    {
     "data": {
      "image/png": "[encoded data removed]",
      "text/plain": [
       "<matplotlib.figure.Figure at 0x7fc4d4322e48>"
      ]
     },
     "metadata": {},
     "output_type": "display_data"
    }
   ],
   "source": [
    "pts = np.linspace(0,2*np.pi,5)\n",
    "x = np.sin(pts)\n",
    "plt.plot(x)\n",
    "plt.plot(x,'o')\n",
    "print(x.max(), x.mean(), x.min())"
   ]
  },
  {
   "cell_type": "markdown",
   "metadata": {},
   "source": [
    "Observe the Nyquist frequency. You need to sample at at least twice the frequency you are probing, i.e. you need four times the number of points as the harmonic you want to image. Plus one extra point, since the first and last should be \"shared\", not possible in this case."
   ]
  },
  {
   "cell_type": "code",
   "execution_count": 5,
   "metadata": {},
   "outputs": [
    {
     "data": {
      "application/vnd.jupyter.widget-view+json": {
       "model_id": "fd0d8716d8fc43f1acdd40c79dc3cdb7"
      }
     },
     "metadata": {},
     "output_type": "display_data"
    }
   ],
   "source": [
    "@interact(h=(1,100),points=(1,1000))\n",
    "def plt_sin(h=25,points=101):\n",
    "    tmp = np.linspace(0,2*np.pi,points)\n",
    "    x = np.sin(tmp*h)\n",
    "    plt.plot(x)\n",
    "    plt.plot(x,'o')\n",
    "    plt.show()"
   ]
  },
  {
   "cell_type": "markdown",
   "metadata": {},
   "source": [
    "Observe how the FT changes with increasing odd harmonics."
   ]
  },
  {
   "cell_type": "code",
   "execution_count": 6,
   "metadata": {},
   "outputs": [
    {
     "data": {
      "application/vnd.jupyter.widget-view+json": {
       "model_id": "5399c088407c403bb6584692083fa775"
      }
     },
     "metadata": {},
     "output_type": "display_data"
    }
   ],
   "source": [
    "points = 101\n",
    "@interact(i=(1,25,2))\n",
    "def ftrans(i=(1)):\n",
    "    fig = plt.figure(figsize=(12,6))\n",
    "    plt.subplot(131)\n",
    "    plt.imshow(make_img(i,points))\n",
    "    plt.subplot(132)\n",
    "    ft = np.fft.fft2(make_img(i,points))\n",
    "    ft_shift_real = np.real(np.fft.fftshift(ft))\n",
    "    plt.imshow(ft_shift_real,'bwr')\n",
    "    plt.show()"
   ]
  },
  {
   "cell_type": "markdown",
   "metadata": {},
   "source": [
    "Summing higher (odd) harmonics of the image simulates encoding into the image higher and higher frequencies. In principle, at some point one reaches the Nyquist frequency, i.e. the max frequency that can be encoded in the image. Clearly this has to do with the pixel size;"
   ]
  },
  {
   "cell_type": "code",
   "execution_count": 7,
   "metadata": {},
   "outputs": [
    {
     "data": {
      "application/vnd.jupyter.widget-view+json": {
       "model_id": "de1acbffc1674fcc98ee468c0a884e70"
      }
     },
     "metadata": {},
     "output_type": "display_data"
    }
   ],
   "source": [
    "points = 101\n",
    "@interact(i=(1,25,2))\n",
    "def plt_harmonics(i=1):\n",
    "    odd_harmonics = np.arange(1,i+1,2)\n",
    "    sum_img = make_img(1,points)\n",
    "    for n in odd_harmonics:\n",
    "        sum_img = sum_img + make_img(n,points)\n",
    "    ft = np.fft.fft2(sum_img)\n",
    "    ft_shift_real = np.real(np.fft.fftshift(ft))\n",
    "    ###\n",
    "    fig = plt.figure(figsize=(12,3))\n",
    "    plt.subplot(141)\n",
    "    plt.imshow(sum_img)\n",
    "    plt.subplot(142)\n",
    "    plt.plot(sum_img[50])\n",
    "    plt.plot(sum_img[50],'x')\n",
    "    plt.subplot(143)\n",
    "    plt.imshow(ft_shift_real[30:70,30:70],'bwr')\n",
    "    plt.subplot(144)\n",
    "    plt.plot(ft_shift_real[50])\n",
    "    plt.tight_layout()\n",
    "    plt.show()"
   ]
  },
  {
   "cell_type": "markdown",
   "metadata": {},
   "source": [
    "The FT of a variable width square function. "
   ]
  },
  {
   "cell_type": "code",
   "execution_count": 8,
   "metadata": {
    "scrolled": true
   },
   "outputs": [
    {
     "data": {
      "application/vnd.jupyter.widget-view+json": {
       "model_id": "364b743a6fe547e380297e57b2d16f39"
      }
     },
     "metadata": {},
     "output_type": "display_data"
    }
   ],
   "source": [
    "@interact(i=(0,50))\n",
    "def plt_delta(i=0):\n",
    "    delta = np.zeros((102,102))\n",
    "    if i==0:\n",
    "        delta[:,50] = 1\n",
    "    else:\n",
    "        delta[:,50-i:50+i]=1\n",
    "    fig = plt.figure(figsize=(11,3))\n",
    "    plt.subplot(131)\n",
    "    plt.imshow(delta)\n",
    "    plt.subplot(132)\n",
    "    ft = np.fft.fft2(delta)\n",
    "    ft_shit_real = np.real(np.fft.fftshift(ft))\n",
    "    plt.imshow(ft_shit_real,'bwr')\n",
    "    plt.subplot(133)\n",
    "    plt.plot(ft_shit_real[51])\n",
    "#     plt.plot(abs(ft_shit_real[51]),'x')\n",
    "    plt.show()"
   ]
  },
  {
   "cell_type": "markdown",
   "metadata": {},
   "source": [
    "Generate square wave by summing **odd** harmonics of sine wave:"
   ]
  },
  {
   "cell_type": "code",
   "execution_count": 9,
   "metadata": {},
   "outputs": [
    {
     "data": {
      "image/png": "[encoded data removed]",
      "text/plain": [
       "<matplotlib.figure.Figure at 0x7fc4d1f240f0>"
      ]
     },
     "metadata": {},
     "output_type": "display_data"
    }
   ],
   "source": [
    "a = 3\n",
    "x = np.linspace(0,20*np.pi,1000)\n",
    "odd_harm = np.arange(1,20,2)\n",
    "sine = np.sin(0)\n",
    "for n in odd_harm:\n",
    "    sine = sine + (a/n)*np.sin(n*x)\n",
    "\n",
    "plt.figure(figsize=(15,3))\n",
    "plt.plot(sine);"
   ]
  },
  {
   "cell_type": "markdown",
   "metadata": {},
   "source": [
    "Observe the effect of low pass filtering -- i.e., cutting out the high frequency components of the original image by reconstructing only a limited portion of its FT. Note how this correspond to blurring the image: sharp contours and crisp edges are lost."
   ]
  },
  {
   "cell_type": "code",
   "execution_count": 10,
   "metadata": {
    "scrolled": false
   },
   "outputs": [
    {
     "data": {
      "application/vnd.jupyter.widget-view+json": {
       "model_id": "8c73867567ad4bdbac47b4abc1c92a04"
      }
     },
     "metadata": {},
     "output_type": "display_data"
    }
   ],
   "source": [
    "from scipy import misc\n",
    "\n",
    "@interact(i=(1,256))\n",
    "def plt_fiter(i=30):\n",
    "    img = misc.ascent()\n",
    "\n",
    "    # FT the image and abs + log to plot it\n",
    "    img_ft = np.fft.fftshift(np.fft.fft2(img))\n",
    "    img_ft_plot = np.log(np.abs(img_ft))\n",
    "\n",
    "    # Make a circular mask -- the ogrid fun spans the whole image\n",
    "    r = i\n",
    "    x, y = np.ogrid[-256:256,-256:256]\n",
    "    mask = x**2 + y**2 >= r**2\n",
    "\n",
    "    # Copy the FT and mask it\n",
    "    img_ft_filt = img_ft.copy()\n",
    "    img_ft_filt[mask] = 0\n",
    "    img_ft_filt_plot = np.log(np.abs(img_ft_filt))\n",
    "\n",
    "    # Inv FT the masked FT\n",
    "    img_ift = np.fft.ifft2(img_ft_filt) # note that I'm not shifting it back!\n",
    "    img_ift_plot = (np.abs(img_ift))\n",
    "\n",
    "    # Plot everything\n",
    "    fig = plt.figure(figsize=(10,10))\n",
    "    plt.subplot(221)\n",
    "    plt.imshow(img)\n",
    "    plt.subplot(222)\n",
    "    plt.imshow(img_ft_plot)\n",
    "    plt.subplot(223)\n",
    "    plt.imshow(img_ft_filt_plot)\n",
    "    plt.subplot(224)\n",
    "    plt.imshow(img_ift_plot)\n",
    "    plt.show();"
   ]
  }
 ],
 "metadata": {
  "kernelspec": {
   "display_name": "Python 3",
   "language": "python",
   "name": "python3"
  },
  "language_info": {
   "codemirror_mode": {
    "name": "ipython",
    "version": 3
   },
   "file_extension": ".py",
   "mimetype": "text/x-python",
   "name": "python",
   "nbconvert_exporter": "python",
   "pygments_lexer": "ipython3",
   "version": "3.4.2"
  }
 },
 "nbformat": 4,
 "nbformat_minor": 2
}
