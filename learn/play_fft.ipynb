{
 "cells": [
  {
   "cell_type": "markdown",
   "metadata": {},
   "source": [
    "# Playing with Fourier transforms\n",
    "\n",
    "Have a look at [this page](http://cns-alumni.bu.edu/~slehar/fourier/fourier.html) for most inspiration regarding this notebook."
   ]
  },
  {
   "cell_type": "code",
   "execution_count": 1,
   "metadata": {
    "collapsed": true
   },
   "outputs": [],
   "source": [
    "import matplotlib.pyplot as plt\n",
    "import numpy as np\n",
    "from ipywidgets import interact\n",
    "%matplotlib inline"
   ]
  },
  {
   "cell_type": "markdown",
   "metadata": {},
   "source": [
    "Generate a 2D brightness image; note that the minimum brightness is 0 and that no negative values are permitted -- the average brightness is always positive."
   ]
  },
  {
   "cell_type": "code",
   "execution_count": 23,
   "metadata": {
    "collapsed": true
   },
   "outputs": [],
   "source": [
    "def make_img(harmonic,points):\n",
    "    tmp = np.linspace(0,2*np.pi,points)\n",
    "    x,xx = np.meshgrid(tmp,tmp)\n",
    "    x = np.sin(x*2*harmonic+np.pi/2)+1\n",
    "    return x"
   ]
  },
  {
   "cell_type": "markdown",
   "metadata": {},
   "source": [
    "Take a look at how the number of points used to compute the sine wave (i.e. the pixels) affects the displayed function. It looks like after about `h=4` the computed wave corresponds to the sum of the one of frequency $1/2h$ plus another of much lower frequency."
   ]
  },
  {
   "cell_type": "code",
   "execution_count": 20,
   "metadata": {},
   "outputs": [
    {
     "data": {
      "application/vnd.jupyter.widget-view+json": {
       "model_id": "34e7c987b6a14da5bf1deda339e8decd"
      }
     },
     "metadata": {},
     "output_type": "display_data"
    }
   ],
   "source": [
    "@interact(h=(1,20),points=(100,1000))\n",
    "def plt_sin(h,points):\n",
    "    tmp = np.linspace(0,2*np.pi,points)\n",
    "    x = np.sin(tmp*2*h)+1\n",
    "    fig = plt.figure(figsize=(12,8))\n",
    "    plt.plot(x)\n",
    "    plt.plot(x,'o')\n",
    "    plt.show()"
   ]
  },
  {
   "cell_type": "markdown",
   "metadata": {},
   "source": [
    "Observe how the FT changes with increasing odd harmonics."
   ]
  },
  {
   "cell_type": "code",
   "execution_count": 27,
   "metadata": {},
   "outputs": [
    {
     "data": {
      "application/vnd.jupyter.widget-view+json": {
       "model_id": "29fb302db678413893f0dd836de9bdbb"
      }
     },
     "metadata": {},
     "output_type": "display_data"
    }
   ],
   "source": [
    "points = 100\n",
    "@interact(i=(1,10,2))\n",
    "def ftrans(i=(1)):\n",
    "    fig = plt.figure(figsize=(12,6))\n",
    "    plt.subplot(131)\n",
    "    plt.imshow(make_img(i,points))\n",
    "    plt.subplot(132)\n",
    "    ft = np.fft.fft2(make_img(i,points))\n",
    "    ft_shift_real = np.real(np.fft.fftshift(ft))\n",
    "    plt.imshow(ft_shift_real,'bwr')\n",
    "    plt.show()"
   ]
  },
  {
   "cell_type": "markdown",
   "metadata": {},
   "source": [
    "Summing higher (odd) harmonics of the image simulates encoding into the image higher and higher frequencies. In principle, at some point one reaches the Nyquist frequency, i.e. the max frequency that can be encoded in the image. Clearly this has to do with the pixel size;"
   ]
  },
  {
   "cell_type": "code",
   "execution_count": 38,
   "metadata": {},
   "outputs": [
    {
     "data": {
      "application/vnd.jupyter.widget-view+json": {
       "model_id": "08351ab843cd49bfb86861f1ddfa6f53"
      }
     },
     "metadata": {},
     "output_type": "display_data"
    }
   ],
   "source": [
    "points = 100\n",
    "@interact(i=(3,10,2))\n",
    "def plt_harmonics(i=3):\n",
    "    odd_harmonics = np.arange(3,i,2)\n",
    "    sum_img = make_img(1,points)\n",
    "    for n in odd_harmonics:\n",
    "        sum_img = sum_img + make_img(n,points)\n",
    "    ###\n",
    "    fig = plt.figure(figsize=(11,3))\n",
    "    plt.subplot(131)\n",
    "    plt.imshow(sum_img)\n",
    "    plt.subplot(132)\n",
    "    plt.plot(sum_img[50])\n",
    "    plt.plot(sum_img[50],'x')\n",
    "    plt.subplot(133)\n",
    "    ft = np.fft.fft2(sum_img)\n",
    "    ft_shift_real = np.real(np.fft.fftshift(ft))\n",
    "    plt.imshow(ft_shift_real,'bwr')\n",
    "    plt.show()"
   ]
  },
  {
   "cell_type": "markdown",
   "metadata": {},
   "source": [
    "The FT of a one-pixel delta funcion..."
   ]
  },
  {
   "cell_type": "code",
   "execution_count": 41,
   "metadata": {},
   "outputs": [
    {
     "data": {
      "image/png": "[encoded data removed]",
      "text/plain": [
       "<matplotlib.figure.Figure at 0x7f06b428b0f0>"
      ]
     },
     "metadata": {},
     "output_type": "display_data"
    }
   ],
   "source": [
    "delta = np.zeros((100,100))\n",
    "delta[:,50]=2\n",
    "fig = plt.figure(figsize=(11,3))\n",
    "plt.subplot(131)\n",
    "plt.imshow(delta)\n",
    "plt.subplot(132)\n",
    "ft = np.fft.fft2(delta)\n",
    "ft_shit_real = np.real(np.fft.fftshift(ft))\n",
    "plt.imshow(ft_shit_real,'bwr')\n",
    "plt.subplot(133)\n",
    "plt.plot(ft_shit_real[50])\n",
    "plt.show()"
   ]
  }
 ],
 "metadata": {
  "kernelspec": {
   "display_name": "Python 3",
   "language": "python",
   "name": "python3"
  },
  "language_info": {
   "codemirror_mode": {
    "name": "ipython",
    "version": 3
   },
   "file_extension": ".py",
   "mimetype": "text/x-python",
   "name": "python",
   "nbconvert_exporter": "python",
   "pygments_lexer": "ipython3",
   "version": "3.4.2"
  }
 },
 "nbformat": 4,
 "nbformat_minor": 2
}
