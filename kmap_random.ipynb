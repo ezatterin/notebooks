{
 "cells": [
  {
   "cell_type": "code",
   "execution_count": 1,
   "metadata": {
    "collapsed": false,
    "deletable": true,
    "editable": true,
    "scrolled": true
   },
   "outputs": [],
   "source": [
    "import PyMca5 as mca\n",
    "from ipywidgets import interact\n",
    "import numpy as np\n",
    "import matplotlib.pyplot as plt\n",
    "\n",
    "%matplotlib inline\n",
    "%config InlineBackend.figure_format = 'png'\n",
    "\n",
    "specdir = '/users/opid01/edo/inhouse_jan_17/spec/'"
   ]
  },
  {
   "cell_type": "code",
   "execution_count": 2,
   "metadata": {
    "collapsed": false,
    "deletable": true,
    "editable": true
   },
   "outputs": [
    {
     "name": "stdout",
     "output_type": "stream",
     "text": [
      "align_fast_00006.spec\n",
      "align_fast_00009.spec\n",
      "samples_fast_00007.spec\n",
      "samples_fast_00009.spec\n",
      "samples_fast_00010.spec\n",
      "samples_fast_00011.spec\n",
      "samples_fast_00013.spec\n",
      "samples_fast_00014.spec\n",
      "samples_fast_00015.spec\n",
      "samples_fast_00016.spec\n",
      "samples_fast_00017.spec\n",
      "samples_fast_00018.spec\n",
      "samples_fast_00019.spec\n",
      "samples_fast_00020.spec\n",
      "samples_fast_00021.spec\n",
      "samples_fast_00022.spec\n",
      "samples_fast_00023.spec\n",
      "samples_fast_00024.spec\n",
      "samples_fast_00025.spec\n",
      "samples_fast_00026.spec\n",
      "samples_fast_00027.spec\n",
      "samples_fast_00028.spec\n",
      "samples_fast_00029.spec\n",
      "samples_fast_00030.spec\n",
      "samples_fast_00031.spec\n",
      "samples_fast_00032.spec\n",
      "samples_fast_00033.spec\n",
      "samples_fast_00034.spec\n",
      "samples_fast_00035.spec\n",
      "samples_fast_00036.spec\n",
      "samples_fast_00037.spec\n",
      "samples_fast_00041.spec\n"
     ]
    }
   ],
   "source": [
    "files = !ls {specdir} | grep spec | grep fast\n",
    "for fname in files: print(fname)\n",
    "rois = ['mpx4int']#, 'roi7', 'roi8', 'roi6']\n",
    "sample_name = 'tbd'"
   ]
  },
  {
   "cell_type": "code",
   "execution_count": 3,
   "metadata": {
    "collapsed": false,
    "deletable": true,
    "editable": true,
    "scrolled": true
   },
   "outputs": [
    {
     "name": "stdout",
     "output_type": "stream",
     "text": [
      "n of scans is 110\n"
     ]
    }
   ],
   "source": [
    "sf = mca.specfile.Specfile(specdir+files[0])\n",
    "print('n of scans is {0}'.format(int(sf.list()[2:])))"
   ]
  },
  {
   "cell_type": "code",
   "execution_count": 4,
   "metadata": {
    "collapsed": true,
    "deletable": true,
    "editable": true
   },
   "outputs": [],
   "source": [
    "scan_no = 0\n",
    "what2plot = 'mpx4int'"
   ]
  },
  {
   "cell_type": "code",
   "execution_count": 5,
   "metadata": {
    "collapsed": false,
    "deletable": true,
    "editable": true
   },
   "outputs": [],
   "source": [
    "# get the scan\n",
    "scan = sf[scan_no]\n",
    "# get the data and the rois\n",
    "data = scan.data()\n",
    "index_list = scan.alllabels()\n",
    "rawdata = data[index_list.index(what2plot)]\n",
    "motor_1 = data[index_list.index('adcX')]\n",
    "motor_2 = data[index_list.index('adcY')]\n",
    "new_shape = (int(scan.command().split()[8]), int(scan.command().split()[4]))\n",
    "# apply dimensions\n",
    "rawdata.shape, motor_1.shape, motor_2.shape = new_shape, new_shape, new_shape"
   ]
  },
  {
   "cell_type": "code",
   "execution_count": 6,
   "metadata": {
    "collapsed": false,
    "deletable": true,
    "editable": true,
    "scrolled": true
   },
   "outputs": [
    {
     "data": {
      "image/png": "[encoded data removed]",
      "text/plain": [
       "<matplotlib.figure.Figure at 0x7f377cbddf98>"
      ]
     },
     "metadata": {},
     "output_type": "display_data"
    }
   ],
   "source": [
    "@interact(i=(0,int(sf.list()[2:])))\n",
    "def pltk(i):\n",
    "    # plt.pcolormesh(motor_1,motor_2,rawdata)\n",
    "    scan = sf[i]\n",
    "    # get the data and the rois\n",
    "    data = scan.data()\n",
    "    index_list = scan.alllabels()\n",
    "    rawdata = data[index_list.index(what2plot)]\n",
    "    motor_1 = data[index_list.index('adcX')]\n",
    "    motor_2 = data[index_list.index('adcY')]\n",
    "    new_shape = (int(scan.command().split()[8]), int(scan.command().split()[4]))\n",
    "    # apply dimensions\n",
    "    rawdata.shape, motor_1.shape, motor_2.shape = new_shape, new_shape, new_shape\n",
    "    plt.pcolormesh(motor_2,motor_1,rawdata)\n",
    "    plt.axis([motor_1.min(),motor_1.max(),motor_2.min(),motor_2.max()])\n"
   ]
  },
  {
   "cell_type": "code",
   "execution_count": 7,
   "metadata": {
    "collapsed": false,
    "deletable": true,
    "editable": true
   },
   "outputs": [
    {
     "ename": "SyntaxError",
     "evalue": "invalid syntax (<ipython-input-7-a00efb5b3a46>, line 1)",
     "output_type": "error",
     "traceback": [
      "\u001b[0;36m  File \u001b[0;32m\"<ipython-input-7-a00efb5b3a46>\"\u001b[0;36m, line \u001b[0;32m1\u001b[0m\n\u001b[0;31m    print 'n of scans is {0}'.format(sf.scanno())\u001b[0m\n\u001b[0m                            ^\u001b[0m\n\u001b[0;31mSyntaxError\u001b[0m\u001b[0;31m:\u001b[0m invalid syntax\n"
     ]
    }
   ],
   "source": [
    "print 'n of scans is {0}'.format(sf.scanno())\n",
    "n = 0\n",
    "scan = sf[n]\n",
    "data = scan.data()\n",
    "# select index\n",
    "index_list = scan.alllabels()\n",
    "print index_list\n",
    "what2plot = 'roi4'\n",
    "# load data\n",
    "rawdata = data[index_list.index(what2plot)] \n",
    "motor_1 = data[index_list.index('adcX')]\n",
    "motor_2 = data[index_list.index('adcY')]\n",
    "new_shape = (int(scan.command().split()[4]), int(scan.command().split()[8]))\n",
    "# apply dimensions\n",
    "rawdata.shape, motor_1.shape, motor_2.shape = new_shape, new_shape, new_shape\n",
    "print 'rawdata and motor shapes: {0}'.format(new_shape)"
   ]
  },
  {
   "cell_type": "code",
   "execution_count": null,
   "metadata": {
    "collapsed": true,
    "deletable": true,
    "editable": true
   },
   "outputs": [],
   "source": [
    "fig = plt.figure(figsize=(9,4))\n",
    "plt.subplot(1,2,1)\n",
    "plt.pcolormesh(motor_1, motor_2, rawdata, shading='gouraud')\n",
    "plt.axis([motor_1.min(),motor_1.max(),motor_2.min(),motor_2.max()])\n",
    "# plt.colorbar()\n",
    "# plt.axes().set_aspect('equal')\n",
    "# plt.show()\n",
    "plt.subplot(1,2,2)\n",
    "plt.pcolormesh(motor_1, motor_2, rawdata)\n",
    "plt.axis([motor_1.min(),motor_1.max(),motor_2.min(),motor_2.max()])\n",
    "# plt.colorbar()\n",
    "# plt.axes().set_aspect('equal')\n",
    "plt.tight_layout()\n",
    "plt.show()"
   ]
  }
 ],
 "metadata": {
  "kernelspec": {
   "display_name": "Python 3",
   "language": "python",
   "name": "python3"
  },
  "language_info": {
   "codemirror_mode": {
    "name": "ipython",
    "version": 3
   },
   "file_extension": ".py",
   "mimetype": "text/x-python",
   "name": "python",
   "nbconvert_exporter": "python",
   "pygments_lexer": "ipython3",
   "version": "3.4.2"
  },
  "widgets": {
   "state": {
    "0c507f5ee1954b96b450c0a96799c8cc": {
     "views": [
      {
       "cell_index": 5
      }
     ]
    }
   },
   "version": "1.2.0"
  }
 },
 "nbformat": 4,
 "nbformat_minor": 0
}
